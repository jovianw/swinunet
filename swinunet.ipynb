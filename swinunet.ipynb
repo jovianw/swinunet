{
 "cells": [
  {
   "cell_type": "code",
   "execution_count": 1,
   "metadata": {
    "colab": {
     "base_uri": "https://localhost:8080/"
    },
    "executionInfo": {
     "elapsed": 19096,
     "status": "ok",
     "timestamp": 1708324775374,
     "user": {
      "displayName": "NGKD",
      "userId": "00773922209354261622"
     },
     "user_tz": 360
    },
    "id": "4MdtSq298luC",
    "outputId": "50475c3f-52cf-4fbb-e357-eb783668a347"
   },
   "outputs": [],
   "source": [
    "# from google.colab import drive\n",
    "# drive.mount('/content/drive')"
   ]
  },
  {
   "cell_type": "code",
   "execution_count": 2,
   "metadata": {
    "scrolled": true
   },
   "outputs": [
    {
     "name": "stderr",
     "output_type": "stream",
     "text": [
      "WARNING: Ignoring invalid distribution -rotobuf (c:\\users\\jovian\\anaconda3\\envs\\python38\\lib\\site-packages)\n",
      "WARNING: Ignoring invalid distribution -rotobuf (c:\\users\\jovian\\anaconda3\\envs\\python38\\lib\\site-packages)\n",
      "WARNING: Ignoring invalid distribution -rotobuf (c:\\users\\jovian\\anaconda3\\envs\\python38\\lib\\site-packages)\n",
      "WARNING: Ignoring invalid distribution -rotobuf (c:\\users\\jovian\\anaconda3\\envs\\python38\\lib\\site-packages)\n",
      "WARNING: Ignoring invalid distribution -rotobuf (c:\\users\\jovian\\anaconda3\\envs\\python38\\lib\\site-packages)\n",
      "WARNING: Ignoring invalid distribution -rotobuf (c:\\users\\jovian\\anaconda3\\envs\\python38\\lib\\site-packages)\n"
     ]
    },
    {
     "name": "stdout",
     "output_type": "stream",
     "text": [
      "Requirement already satisfied: torch in c:\\users\\jovian\\anaconda3\\envs\\python38\\lib\\site-packages (from -r requirements.txt (line 1)) (2.1.2)\n",
      "Requirement already satisfied: torchvision in c:\\users\\jovian\\anaconda3\\envs\\python38\\lib\\site-packages (from -r requirements.txt (line 2)) (0.16.2)\n",
      "Requirement already satisfied: numpy in c:\\users\\jovian\\anaconda3\\envs\\python38\\lib\\site-packages (from -r requirements.txt (line 3)) (1.24.3)\n",
      "Requirement already satisfied: tqdm in c:\\users\\jovian\\anaconda3\\envs\\python38\\lib\\site-packages (from -r requirements.txt (line 4)) (4.66.2)\n",
      "Requirement already satisfied: ml-collections in c:\\users\\jovian\\anaconda3\\envs\\python38\\lib\\site-packages (from -r requirements.txt (line 7)) (0.1.1)\n",
      "Requirement already satisfied: medpy in c:\\users\\jovian\\anaconda3\\envs\\python38\\lib\\site-packages (from -r requirements.txt (line 8)) (0.4.0)\n",
      "Requirement already satisfied: SimpleITK in c:\\users\\jovian\\anaconda3\\envs\\python38\\lib\\site-packages (from -r requirements.txt (line 9)) (2.3.1)\n",
      "Requirement already satisfied: scipy in c:\\users\\jovian\\anaconda3\\envs\\python38\\lib\\site-packages (from -r requirements.txt (line 10)) (1.10.1)\n",
      "Requirement already satisfied: h5py in c:\\users\\jovian\\anaconda3\\envs\\python38\\lib\\site-packages (from -r requirements.txt (line 11)) (3.8.0)\n",
      "Requirement already satisfied: timm in c:\\users\\jovian\\anaconda3\\envs\\python38\\lib\\site-packages (from -r requirements.txt (line 12)) (0.9.16)\n",
      "Requirement already satisfied: einops in c:\\users\\jovian\\anaconda3\\envs\\python38\\lib\\site-packages (from -r requirements.txt (line 13)) (0.7.0)\n",
      "Requirement already satisfied: filelock in c:\\users\\jovian\\anaconda3\\envs\\python38\\lib\\site-packages (from torch->-r requirements.txt (line 1)) (3.13.1)\n",
      "Requirement already satisfied: typing-extensions in c:\\users\\jovian\\anaconda3\\envs\\python38\\lib\\site-packages (from torch->-r requirements.txt (line 1)) (4.9.0)\n",
      "Requirement already satisfied: sympy in c:\\users\\jovian\\anaconda3\\envs\\python38\\lib\\site-packages (from torch->-r requirements.txt (line 1)) (1.12)\n",
      "Requirement already satisfied: networkx in c:\\users\\jovian\\anaconda3\\envs\\python38\\lib\\site-packages (from torch->-r requirements.txt (line 1)) (3.1)\n",
      "Requirement already satisfied: jinja2 in c:\\users\\jovian\\anaconda3\\envs\\python38\\lib\\site-packages (from torch->-r requirements.txt (line 1)) (3.1.2)\n",
      "Requirement already satisfied: fsspec in c:\\users\\jovian\\anaconda3\\envs\\python38\\lib\\site-packages (from torch->-r requirements.txt (line 1)) (2023.12.2)\n",
      "Requirement already satisfied: requests in c:\\users\\jovian\\anaconda3\\envs\\python38\\lib\\site-packages (from torchvision->-r requirements.txt (line 2)) (2.31.0)\n",
      "Requirement already satisfied: pillow!=8.3.*,>=5.3.0 in c:\\users\\jovian\\anaconda3\\envs\\python38\\lib\\site-packages (from torchvision->-r requirements.txt (line 2)) (10.0.1)\n",
      "Requirement already satisfied: colorama in c:\\users\\jovian\\anaconda3\\envs\\python38\\lib\\site-packages (from tqdm->-r requirements.txt (line 4)) (0.4.6)\n",
      "Requirement already satisfied: PyYAML in c:\\users\\jovian\\anaconda3\\envs\\python38\\lib\\site-packages (from ml-collections->-r requirements.txt (line 7)) (6.0.1)\n",
      "Requirement already satisfied: six in c:\\users\\jovian\\anaconda3\\envs\\python38\\lib\\site-packages (from ml-collections->-r requirements.txt (line 7)) (1.16.0)\n",
      "Requirement already satisfied: contextlib2 in c:\\users\\jovian\\anaconda3\\envs\\python38\\lib\\site-packages (from ml-collections->-r requirements.txt (line 7)) (21.6.0)\n",
      "Requirement already satisfied: absl-py in c:\\users\\jovian\\anaconda3\\envs\\python38\\lib\\site-packages (from ml-collections->-r requirements.txt (line 7)) (1.4.0)\n",
      "Requirement already satisfied: huggingface_hub in c:\\users\\jovian\\anaconda3\\envs\\python38\\lib\\site-packages (from timm->-r requirements.txt (line 12)) (0.21.1)\n",
      "Requirement already satisfied: safetensors in c:\\users\\jovian\\anaconda3\\envs\\python38\\lib\\site-packages (from timm->-r requirements.txt (line 12)) (0.4.2)\n",
      "Requirement already satisfied: packaging>=20.9 in c:\\users\\jovian\\anaconda3\\envs\\python38\\lib\\site-packages (from huggingface_hub->timm->-r requirements.txt (line 12)) (23.0)\n",
      "Requirement already satisfied: MarkupSafe>=2.0 in c:\\users\\jovian\\anaconda3\\envs\\python38\\lib\\site-packages (from jinja2->torch->-r requirements.txt (line 1)) (2.1.3)\n",
      "Requirement already satisfied: charset-normalizer<4,>=2 in c:\\users\\jovian\\anaconda3\\envs\\python38\\lib\\site-packages (from requests->torchvision->-r requirements.txt (line 2)) (3.0.1)\n",
      "Requirement already satisfied: idna<4,>=2.5 in c:\\users\\jovian\\anaconda3\\envs\\python38\\lib\\site-packages (from requests->torchvision->-r requirements.txt (line 2)) (3.4)\n",
      "Requirement already satisfied: urllib3<3,>=1.21.1 in c:\\users\\jovian\\anaconda3\\envs\\python38\\lib\\site-packages (from requests->torchvision->-r requirements.txt (line 2)) (1.26.18)\n",
      "Requirement already satisfied: certifi>=2017.4.17 in c:\\users\\jovian\\anaconda3\\envs\\python38\\lib\\site-packages (from requests->torchvision->-r requirements.txt (line 2)) (2023.11.17)\n",
      "Requirement already satisfied: mpmath>=0.19 in c:\\users\\jovian\\anaconda3\\envs\\python38\\lib\\site-packages (from sympy->torch->-r requirements.txt (line 1)) (1.3.0)\n"
     ]
    }
   ],
   "source": [
    "!pip install -r requirements.txt"
   ]
  },
  {
   "cell_type": "code",
   "execution_count": 3,
   "metadata": {
    "id": "xV37eWL2GG0l"
   },
   "outputs": [],
   "source": [
    "import os\n",
    "import numpy as np\n",
    "import tensorflow as tf\n",
    "import nibabel as nib\n",
    "from tensorflow.keras.utils import Sequence\n",
    "from sklearn.model_selection import train_test_split\n",
    "from tensorflow.keras.preprocessing.image import img_to_array, load_img\n",
    "from skimage.transform import resize\n",
    "\n",
    "import argparse\n",
    "import logging\n",
    "import os\n",
    "import random\n",
    "import sys\n",
    "import time\n",
    "import numpy as np\n",
    "import torch\n",
    "import torch.nn as nn\n",
    "import torch.optim as optim\n",
    "from tensorboardX import SummaryWriter\n",
    "from torch.nn.modules.loss import CrossEntropyLoss\n",
    "from torch.utils.data import Dataset, DataLoader\n",
    "from tqdm import tqdm\n",
    "from utils import DiceLoss\n",
    "from torchvision import transforms\n",
    "from utils import test_single_volume\n",
    "\n",
    "import zipfile\n",
    "from timeit import default_timer as timer\n",
    "import matplotlib.pyplot as plt"
   ]
  },
  {
   "cell_type": "code",
   "execution_count": 4,
   "metadata": {},
   "outputs": [
    {
     "name": "stdout",
     "output_type": "stream",
     "text": [
      "=> merge config from configs/swin_tiny_patch4_window7_224_lite.yaml\n"
     ]
    }
   ],
   "source": [
    "from config import get_config\n",
    "\n",
    "args = argparse.ArgumentParser()\n",
    "args.cfg = \"configs/swin_tiny_patch4_window7_224_lite.yaml\"\n",
    "args.batch_size = 12\n",
    "args.cache_mode = 'no'\n",
    "\n",
    "config = get_config(args)"
   ]
  },
  {
   "cell_type": "code",
   "execution_count": 5,
   "metadata": {},
   "outputs": [
    {
     "name": "stderr",
     "output_type": "stream",
     "text": [
      "100%|████████████████████████████████████████████████████████████████████████████| 744/744 [15:22<00:00,  1.24s/it]"
     ]
    },
    {
     "name": "stdout",
     "output_type": "stream",
     "text": [
      "Preprocessing done.\n"
     ]
    },
    {
     "name": "stderr",
     "output_type": "stream",
     "text": [
      "\n"
     ]
    }
   ],
   "source": [
    "# Preprocess data for swin unet\n",
    "# It expects 2d slices, not 3d volume\n",
    "\n",
    "def process_volume(volume):\n",
    "    # Clip and normalize the volume\n",
    "    clipped_volume = np.clip(volume, -125, 275)\n",
    "    min_val, max_val = clipped_volume.min(), clipped_volume.max()\n",
    "    normalized_volume = (clipped_volume - min_val) / (max_val - min_val)\n",
    "    return normalized_volume\n",
    "\n",
    "def extract_and_process_volume(zip_path, temp_dir):\n",
    "    # Extract .nii.gz file from zip archive\n",
    "    with zipfile.ZipFile(zip_path, 'r') as zip_ref:\n",
    "        zip_ref.extractall(temp_dir)\n",
    "    nii_path = [os.path.join(temp_dir, f) for f in os.listdir(temp_dir) if f.endswith('.nii.gz')][0]\n",
    "    # Load and process volume\n",
    "    volume = nib.load(nii_path).get_fdata()\n",
    "    processed_volume = process_volume(volume)\n",
    "    # Cleanup extracted files\n",
    "    os.remove(nii_path)\n",
    "    return processed_volume\n",
    "\n",
    "def crop_center(img, cropx, cropy):\n",
    "    y, x, _ = img.shape\n",
    "    startx = x // 2 - (cropx // 2)\n",
    "    starty = y // 2 - (cropy // 2)    \n",
    "    return img[starty:starty+cropy, startx:startx+cropx, :]\n",
    "\n",
    "def process_and_save_slices(volume, label_volume, output_dir, base_filename):\n",
    "    # Ensure the output directory exists\n",
    "    if not os.path.exists(output_dir):\n",
    "        os.makedirs(output_dir)\n",
    "        \n",
    "    # Extract slices and save them\n",
    "    for i in range(volume.shape[2]):  # Assuming the volume shape is (256, 256, 128)\n",
    "        image_slice = volume[:, :, i]\n",
    "        label_slice = label_volume[:, :, i]\n",
    "        \n",
    "        # Crop slices to 224\n",
    "        image_slice = crop_center(image_slice, 224, 224)\n",
    "        label_slice = crop_center(label_slice, 224, 224)\n",
    "        \n",
    "        # Reshape slices to (1, 224, 224)\n",
    "        image_slice = np.transpose(image_slice, (2, 0, 1))\n",
    "        label_slice = np.transpose(label_slice, (2, 0, 1))\n",
    "        \n",
    "        # Save as compressed .npz file\n",
    "        slice_filename = os.path.join(output_dir, f'{base_filename}_slice_{i}.npz')\n",
    "        np.savez_compressed(slice_filename, image=image_slice, label=label_slice)\n",
    "\n",
    "\n",
    "image_dir = 'datasets/ULS23_Radboudumc_Bone/images'\n",
    "label_dir = 'datasets/ULS23_Radboudumc_Bone/labels'\n",
    "output_dir = 'datasets/preprocessed'\n",
    "temp_dir = 'temp_labels'\n",
    "\n",
    "\n",
    "if not os.path.exists(temp_dir):\n",
    "    os.makedirs(temp_dir)\n",
    "\n",
    "# Loop through the image files\n",
    "for image_filename in tqdm(os.listdir(image_dir)):\n",
    "    if image_filename.endswith('.nii.gz'):\n",
    "        base_filename = image_filename[:-7]  # Remove extension to match with label file\n",
    "        image_path = os.path.join(image_dir, image_filename)\n",
    "        label_zip_path = os.path.join(label_dir, base_filename + '.nii.gz.zip')\n",
    "        \n",
    "        # Process image volume\n",
    "        image_volume = nib.load(image_path).get_fdata()\n",
    "        image_slices = process_volume(image_volume)\n",
    "        \n",
    "        # Process label volume\n",
    "        label_slices = extract_and_process_volume(label_zip_path, temp_dir)\n",
    "        \n",
    "        # Save slices\n",
    "        process_and_save_slices(image_slices, label_slices, output_dir, base_filename)\n",
    "\n",
    "# Cleanup temporary directory\n",
    "os.rmdir(temp_dir)\n",
    "\n",
    "print(\"Preprocessing done.\")"
   ]
  },
  {
   "cell_type": "code",
   "execution_count": 21,
   "metadata": {},
   "outputs": [],
   "source": [
    "class NiftiDataset(Dataset):\n",
    "    def __init__(self, slices_dir, transform=None):\n",
    "        self.slices_dir = slices_dir\n",
    "        self.transform = transform\n",
    "        self.filenames = [f for f in os.listdir(slices_dir) if f.endswith('.npz')]\n",
    "\n",
    "    def __len__(self):\n",
    "        return len(self.filenames)\n",
    "\n",
    "    def __getitem__(self, idx):\n",
    "        slice_path = os.path.join(self.slices_dir, self.filenames[idx])\n",
    "        \n",
    "        # Load image\n",
    "        data = np.load(slice_path)\n",
    "        image, label = data['image'], data['label']\n",
    "        image = torch.tensor(image, dtype=torch.float32)\n",
    "        label = torch.tensor(label, dtype=torch.long)\n",
    "        \n",
    "        sample = {'image': image, 'label': label}\n",
    "        if self.transform:\n",
    "            sample = self.transform(sample)\n",
    "        sample['case_name'] = self.filenames[idx].strip('\\n')\n",
    "        return sample"
   ]
  },
  {
   "cell_type": "code",
   "execution_count": 22,
   "metadata": {},
   "outputs": [
    {
     "name": "stdout",
     "output_type": "stream",
     "text": [
      "The length of train set is: 5705\n"
     ]
    }
   ],
   "source": [
    "slices_dir = 'datasets/preprocessed'\n",
    "\n",
    "db_train = NiftiDataset(slices_dir)\n",
    "print(\"The length of train set is: {}\".format(len(db_train)))\n",
    "trainloader  = DataLoader(db_train, batch_size=args.batch_size, shuffle=True)"
   ]
  },
  {
   "cell_type": "code",
   "execution_count": 23,
   "metadata": {},
   "outputs": [
    {
     "name": "stdout",
     "output_type": "stream",
     "text": [
      "SwinTransformerSys expand initial----depths:[2, 2, 2, 2];depths_decoder:[1, 2, 2, 2];drop_path_rate:0.2;num_classes:2\n",
      "---final upsample expand_first---\n",
      "pretrained_path:./pretrained_ckpt/swin_tiny_patch4_window7_224.pth\n",
      "---start load pretrained modle of swin encoder---\n"
     ]
    }
   ],
   "source": [
    "from networks.vision_transformer import SwinUnet\n",
    "\n",
    "model = SwinUnet(config, img_size=224, num_classes=2).cuda()\n",
    "model.load_from(config)"
   ]
  },
  {
   "cell_type": "code",
   "execution_count": 24,
   "metadata": {},
   "outputs": [
    {
     "data": {
      "text/plain": [
       "SwinUnet(\n",
       "  (swin_unet): SwinTransformerSys(\n",
       "    (patch_embed): PatchEmbed(\n",
       "      (proj): Conv2d(3, 96, kernel_size=(4, 4), stride=(4, 4))\n",
       "      (norm): LayerNorm((96,), eps=1e-05, elementwise_affine=True)\n",
       "    )\n",
       "    (pos_drop): Dropout(p=0.0, inplace=False)\n",
       "    (layers): ModuleList(\n",
       "      (0): BasicLayer(\n",
       "        dim=96, input_resolution=(56, 56), depth=2\n",
       "        (blocks): ModuleList(\n",
       "          (0): SwinTransformerBlock(\n",
       "            dim=96, input_resolution=(56, 56), num_heads=3, window_size=7, shift_size=0, mlp_ratio=4.0\n",
       "            (norm1): LayerNorm((96,), eps=1e-05, elementwise_affine=True)\n",
       "            (attn): WindowAttention(\n",
       "              dim=96, window_size=(7, 7), num_heads=3\n",
       "              (qkv): Linear(in_features=96, out_features=288, bias=True)\n",
       "              (attn_drop): Dropout(p=0.0, inplace=False)\n",
       "              (proj): Linear(in_features=96, out_features=96, bias=True)\n",
       "              (proj_drop): Dropout(p=0.0, inplace=False)\n",
       "              (softmax): Softmax(dim=-1)\n",
       "            )\n",
       "            (drop_path): Identity()\n",
       "            (norm2): LayerNorm((96,), eps=1e-05, elementwise_affine=True)\n",
       "            (mlp): Mlp(\n",
       "              (fc1): Linear(in_features=96, out_features=384, bias=True)\n",
       "              (act): GELU(approximate='none')\n",
       "              (fc2): Linear(in_features=384, out_features=96, bias=True)\n",
       "              (drop): Dropout(p=0.0, inplace=False)\n",
       "            )\n",
       "          )\n",
       "          (1): SwinTransformerBlock(\n",
       "            dim=96, input_resolution=(56, 56), num_heads=3, window_size=7, shift_size=3, mlp_ratio=4.0\n",
       "            (norm1): LayerNorm((96,), eps=1e-05, elementwise_affine=True)\n",
       "            (attn): WindowAttention(\n",
       "              dim=96, window_size=(7, 7), num_heads=3\n",
       "              (qkv): Linear(in_features=96, out_features=288, bias=True)\n",
       "              (attn_drop): Dropout(p=0.0, inplace=False)\n",
       "              (proj): Linear(in_features=96, out_features=96, bias=True)\n",
       "              (proj_drop): Dropout(p=0.0, inplace=False)\n",
       "              (softmax): Softmax(dim=-1)\n",
       "            )\n",
       "            (drop_path): DropPath(drop_prob=0.029)\n",
       "            (norm2): LayerNorm((96,), eps=1e-05, elementwise_affine=True)\n",
       "            (mlp): Mlp(\n",
       "              (fc1): Linear(in_features=96, out_features=384, bias=True)\n",
       "              (act): GELU(approximate='none')\n",
       "              (fc2): Linear(in_features=384, out_features=96, bias=True)\n",
       "              (drop): Dropout(p=0.0, inplace=False)\n",
       "            )\n",
       "          )\n",
       "        )\n",
       "        (downsample): PatchMerging(\n",
       "          input_resolution=(56, 56), dim=96\n",
       "          (reduction): Linear(in_features=384, out_features=192, bias=False)\n",
       "          (norm): LayerNorm((384,), eps=1e-05, elementwise_affine=True)\n",
       "        )\n",
       "      )\n",
       "      (1): BasicLayer(\n",
       "        dim=192, input_resolution=(28, 28), depth=2\n",
       "        (blocks): ModuleList(\n",
       "          (0): SwinTransformerBlock(\n",
       "            dim=192, input_resolution=(28, 28), num_heads=6, window_size=7, shift_size=0, mlp_ratio=4.0\n",
       "            (norm1): LayerNorm((192,), eps=1e-05, elementwise_affine=True)\n",
       "            (attn): WindowAttention(\n",
       "              dim=192, window_size=(7, 7), num_heads=6\n",
       "              (qkv): Linear(in_features=192, out_features=576, bias=True)\n",
       "              (attn_drop): Dropout(p=0.0, inplace=False)\n",
       "              (proj): Linear(in_features=192, out_features=192, bias=True)\n",
       "              (proj_drop): Dropout(p=0.0, inplace=False)\n",
       "              (softmax): Softmax(dim=-1)\n",
       "            )\n",
       "            (drop_path): DropPath(drop_prob=0.057)\n",
       "            (norm2): LayerNorm((192,), eps=1e-05, elementwise_affine=True)\n",
       "            (mlp): Mlp(\n",
       "              (fc1): Linear(in_features=192, out_features=768, bias=True)\n",
       "              (act): GELU(approximate='none')\n",
       "              (fc2): Linear(in_features=768, out_features=192, bias=True)\n",
       "              (drop): Dropout(p=0.0, inplace=False)\n",
       "            )\n",
       "          )\n",
       "          (1): SwinTransformerBlock(\n",
       "            dim=192, input_resolution=(28, 28), num_heads=6, window_size=7, shift_size=3, mlp_ratio=4.0\n",
       "            (norm1): LayerNorm((192,), eps=1e-05, elementwise_affine=True)\n",
       "            (attn): WindowAttention(\n",
       "              dim=192, window_size=(7, 7), num_heads=6\n",
       "              (qkv): Linear(in_features=192, out_features=576, bias=True)\n",
       "              (attn_drop): Dropout(p=0.0, inplace=False)\n",
       "              (proj): Linear(in_features=192, out_features=192, bias=True)\n",
       "              (proj_drop): Dropout(p=0.0, inplace=False)\n",
       "              (softmax): Softmax(dim=-1)\n",
       "            )\n",
       "            (drop_path): DropPath(drop_prob=0.086)\n",
       "            (norm2): LayerNorm((192,), eps=1e-05, elementwise_affine=True)\n",
       "            (mlp): Mlp(\n",
       "              (fc1): Linear(in_features=192, out_features=768, bias=True)\n",
       "              (act): GELU(approximate='none')\n",
       "              (fc2): Linear(in_features=768, out_features=192, bias=True)\n",
       "              (drop): Dropout(p=0.0, inplace=False)\n",
       "            )\n",
       "          )\n",
       "        )\n",
       "        (downsample): PatchMerging(\n",
       "          input_resolution=(28, 28), dim=192\n",
       "          (reduction): Linear(in_features=768, out_features=384, bias=False)\n",
       "          (norm): LayerNorm((768,), eps=1e-05, elementwise_affine=True)\n",
       "        )\n",
       "      )\n",
       "      (2): BasicLayer(\n",
       "        dim=384, input_resolution=(14, 14), depth=2\n",
       "        (blocks): ModuleList(\n",
       "          (0): SwinTransformerBlock(\n",
       "            dim=384, input_resolution=(14, 14), num_heads=12, window_size=7, shift_size=0, mlp_ratio=4.0\n",
       "            (norm1): LayerNorm((384,), eps=1e-05, elementwise_affine=True)\n",
       "            (attn): WindowAttention(\n",
       "              dim=384, window_size=(7, 7), num_heads=12\n",
       "              (qkv): Linear(in_features=384, out_features=1152, bias=True)\n",
       "              (attn_drop): Dropout(p=0.0, inplace=False)\n",
       "              (proj): Linear(in_features=384, out_features=384, bias=True)\n",
       "              (proj_drop): Dropout(p=0.0, inplace=False)\n",
       "              (softmax): Softmax(dim=-1)\n",
       "            )\n",
       "            (drop_path): DropPath(drop_prob=0.114)\n",
       "            (norm2): LayerNorm((384,), eps=1e-05, elementwise_affine=True)\n",
       "            (mlp): Mlp(\n",
       "              (fc1): Linear(in_features=384, out_features=1536, bias=True)\n",
       "              (act): GELU(approximate='none')\n",
       "              (fc2): Linear(in_features=1536, out_features=384, bias=True)\n",
       "              (drop): Dropout(p=0.0, inplace=False)\n",
       "            )\n",
       "          )\n",
       "          (1): SwinTransformerBlock(\n",
       "            dim=384, input_resolution=(14, 14), num_heads=12, window_size=7, shift_size=3, mlp_ratio=4.0\n",
       "            (norm1): LayerNorm((384,), eps=1e-05, elementwise_affine=True)\n",
       "            (attn): WindowAttention(\n",
       "              dim=384, window_size=(7, 7), num_heads=12\n",
       "              (qkv): Linear(in_features=384, out_features=1152, bias=True)\n",
       "              (attn_drop): Dropout(p=0.0, inplace=False)\n",
       "              (proj): Linear(in_features=384, out_features=384, bias=True)\n",
       "              (proj_drop): Dropout(p=0.0, inplace=False)\n",
       "              (softmax): Softmax(dim=-1)\n",
       "            )\n",
       "            (drop_path): DropPath(drop_prob=0.143)\n",
       "            (norm2): LayerNorm((384,), eps=1e-05, elementwise_affine=True)\n",
       "            (mlp): Mlp(\n",
       "              (fc1): Linear(in_features=384, out_features=1536, bias=True)\n",
       "              (act): GELU(approximate='none')\n",
       "              (fc2): Linear(in_features=1536, out_features=384, bias=True)\n",
       "              (drop): Dropout(p=0.0, inplace=False)\n",
       "            )\n",
       "          )\n",
       "        )\n",
       "        (downsample): PatchMerging(\n",
       "          input_resolution=(14, 14), dim=384\n",
       "          (reduction): Linear(in_features=1536, out_features=768, bias=False)\n",
       "          (norm): LayerNorm((1536,), eps=1e-05, elementwise_affine=True)\n",
       "        )\n",
       "      )\n",
       "      (3): BasicLayer(\n",
       "        dim=768, input_resolution=(7, 7), depth=2\n",
       "        (blocks): ModuleList(\n",
       "          (0): SwinTransformerBlock(\n",
       "            dim=768, input_resolution=(7, 7), num_heads=24, window_size=7, shift_size=0, mlp_ratio=4.0\n",
       "            (norm1): LayerNorm((768,), eps=1e-05, elementwise_affine=True)\n",
       "            (attn): WindowAttention(\n",
       "              dim=768, window_size=(7, 7), num_heads=24\n",
       "              (qkv): Linear(in_features=768, out_features=2304, bias=True)\n",
       "              (attn_drop): Dropout(p=0.0, inplace=False)\n",
       "              (proj): Linear(in_features=768, out_features=768, bias=True)\n",
       "              (proj_drop): Dropout(p=0.0, inplace=False)\n",
       "              (softmax): Softmax(dim=-1)\n",
       "            )\n",
       "            (drop_path): DropPath(drop_prob=0.171)\n",
       "            (norm2): LayerNorm((768,), eps=1e-05, elementwise_affine=True)\n",
       "            (mlp): Mlp(\n",
       "              (fc1): Linear(in_features=768, out_features=3072, bias=True)\n",
       "              (act): GELU(approximate='none')\n",
       "              (fc2): Linear(in_features=3072, out_features=768, bias=True)\n",
       "              (drop): Dropout(p=0.0, inplace=False)\n",
       "            )\n",
       "          )\n",
       "          (1): SwinTransformerBlock(\n",
       "            dim=768, input_resolution=(7, 7), num_heads=24, window_size=7, shift_size=0, mlp_ratio=4.0\n",
       "            (norm1): LayerNorm((768,), eps=1e-05, elementwise_affine=True)\n",
       "            (attn): WindowAttention(\n",
       "              dim=768, window_size=(7, 7), num_heads=24\n",
       "              (qkv): Linear(in_features=768, out_features=2304, bias=True)\n",
       "              (attn_drop): Dropout(p=0.0, inplace=False)\n",
       "              (proj): Linear(in_features=768, out_features=768, bias=True)\n",
       "              (proj_drop): Dropout(p=0.0, inplace=False)\n",
       "              (softmax): Softmax(dim=-1)\n",
       "            )\n",
       "            (drop_path): DropPath(drop_prob=0.200)\n",
       "            (norm2): LayerNorm((768,), eps=1e-05, elementwise_affine=True)\n",
       "            (mlp): Mlp(\n",
       "              (fc1): Linear(in_features=768, out_features=3072, bias=True)\n",
       "              (act): GELU(approximate='none')\n",
       "              (fc2): Linear(in_features=3072, out_features=768, bias=True)\n",
       "              (drop): Dropout(p=0.0, inplace=False)\n",
       "            )\n",
       "          )\n",
       "        )\n",
       "      )\n",
       "    )\n",
       "    (layers_up): ModuleList(\n",
       "      (0): PatchExpand(\n",
       "        (expand): Linear(in_features=768, out_features=1536, bias=False)\n",
       "        (norm): LayerNorm((384,), eps=1e-05, elementwise_affine=True)\n",
       "      )\n",
       "      (1): BasicLayer_up(\n",
       "        (blocks): ModuleList(\n",
       "          (0): SwinTransformerBlock(\n",
       "            dim=384, input_resolution=(14, 14), num_heads=12, window_size=7, shift_size=0, mlp_ratio=4.0\n",
       "            (norm1): LayerNorm((384,), eps=1e-05, elementwise_affine=True)\n",
       "            (attn): WindowAttention(\n",
       "              dim=384, window_size=(7, 7), num_heads=12\n",
       "              (qkv): Linear(in_features=384, out_features=1152, bias=True)\n",
       "              (attn_drop): Dropout(p=0.0, inplace=False)\n",
       "              (proj): Linear(in_features=384, out_features=384, bias=True)\n",
       "              (proj_drop): Dropout(p=0.0, inplace=False)\n",
       "              (softmax): Softmax(dim=-1)\n",
       "            )\n",
       "            (drop_path): DropPath(drop_prob=0.114)\n",
       "            (norm2): LayerNorm((384,), eps=1e-05, elementwise_affine=True)\n",
       "            (mlp): Mlp(\n",
       "              (fc1): Linear(in_features=384, out_features=1536, bias=True)\n",
       "              (act): GELU(approximate='none')\n",
       "              (fc2): Linear(in_features=1536, out_features=384, bias=True)\n",
       "              (drop): Dropout(p=0.0, inplace=False)\n",
       "            )\n",
       "          )\n",
       "          (1): SwinTransformerBlock(\n",
       "            dim=384, input_resolution=(14, 14), num_heads=12, window_size=7, shift_size=3, mlp_ratio=4.0\n",
       "            (norm1): LayerNorm((384,), eps=1e-05, elementwise_affine=True)\n",
       "            (attn): WindowAttention(\n",
       "              dim=384, window_size=(7, 7), num_heads=12\n",
       "              (qkv): Linear(in_features=384, out_features=1152, bias=True)\n",
       "              (attn_drop): Dropout(p=0.0, inplace=False)\n",
       "              (proj): Linear(in_features=384, out_features=384, bias=True)\n",
       "              (proj_drop): Dropout(p=0.0, inplace=False)\n",
       "              (softmax): Softmax(dim=-1)\n",
       "            )\n",
       "            (drop_path): DropPath(drop_prob=0.143)\n",
       "            (norm2): LayerNorm((384,), eps=1e-05, elementwise_affine=True)\n",
       "            (mlp): Mlp(\n",
       "              (fc1): Linear(in_features=384, out_features=1536, bias=True)\n",
       "              (act): GELU(approximate='none')\n",
       "              (fc2): Linear(in_features=1536, out_features=384, bias=True)\n",
       "              (drop): Dropout(p=0.0, inplace=False)\n",
       "            )\n",
       "          )\n",
       "        )\n",
       "        (upsample): PatchExpand(\n",
       "          (expand): Linear(in_features=384, out_features=768, bias=False)\n",
       "          (norm): LayerNorm((192,), eps=1e-05, elementwise_affine=True)\n",
       "        )\n",
       "      )\n",
       "      (2): BasicLayer_up(\n",
       "        (blocks): ModuleList(\n",
       "          (0): SwinTransformerBlock(\n",
       "            dim=192, input_resolution=(28, 28), num_heads=6, window_size=7, shift_size=0, mlp_ratio=4.0\n",
       "            (norm1): LayerNorm((192,), eps=1e-05, elementwise_affine=True)\n",
       "            (attn): WindowAttention(\n",
       "              dim=192, window_size=(7, 7), num_heads=6\n",
       "              (qkv): Linear(in_features=192, out_features=576, bias=True)\n",
       "              (attn_drop): Dropout(p=0.0, inplace=False)\n",
       "              (proj): Linear(in_features=192, out_features=192, bias=True)\n",
       "              (proj_drop): Dropout(p=0.0, inplace=False)\n",
       "              (softmax): Softmax(dim=-1)\n",
       "            )\n",
       "            (drop_path): DropPath(drop_prob=0.057)\n",
       "            (norm2): LayerNorm((192,), eps=1e-05, elementwise_affine=True)\n",
       "            (mlp): Mlp(\n",
       "              (fc1): Linear(in_features=192, out_features=768, bias=True)\n",
       "              (act): GELU(approximate='none')\n",
       "              (fc2): Linear(in_features=768, out_features=192, bias=True)\n",
       "              (drop): Dropout(p=0.0, inplace=False)\n",
       "            )\n",
       "          )\n",
       "          (1): SwinTransformerBlock(\n",
       "            dim=192, input_resolution=(28, 28), num_heads=6, window_size=7, shift_size=3, mlp_ratio=4.0\n",
       "            (norm1): LayerNorm((192,), eps=1e-05, elementwise_affine=True)\n",
       "            (attn): WindowAttention(\n",
       "              dim=192, window_size=(7, 7), num_heads=6\n",
       "              (qkv): Linear(in_features=192, out_features=576, bias=True)\n",
       "              (attn_drop): Dropout(p=0.0, inplace=False)\n",
       "              (proj): Linear(in_features=192, out_features=192, bias=True)\n",
       "              (proj_drop): Dropout(p=0.0, inplace=False)\n",
       "              (softmax): Softmax(dim=-1)\n",
       "            )\n",
       "            (drop_path): DropPath(drop_prob=0.086)\n",
       "            (norm2): LayerNorm((192,), eps=1e-05, elementwise_affine=True)\n",
       "            (mlp): Mlp(\n",
       "              (fc1): Linear(in_features=192, out_features=768, bias=True)\n",
       "              (act): GELU(approximate='none')\n",
       "              (fc2): Linear(in_features=768, out_features=192, bias=True)\n",
       "              (drop): Dropout(p=0.0, inplace=False)\n",
       "            )\n",
       "          )\n",
       "        )\n",
       "        (upsample): PatchExpand(\n",
       "          (expand): Linear(in_features=192, out_features=384, bias=False)\n",
       "          (norm): LayerNorm((96,), eps=1e-05, elementwise_affine=True)\n",
       "        )\n",
       "      )\n",
       "      (3): BasicLayer_up(\n",
       "        (blocks): ModuleList(\n",
       "          (0): SwinTransformerBlock(\n",
       "            dim=96, input_resolution=(56, 56), num_heads=3, window_size=7, shift_size=0, mlp_ratio=4.0\n",
       "            (norm1): LayerNorm((96,), eps=1e-05, elementwise_affine=True)\n",
       "            (attn): WindowAttention(\n",
       "              dim=96, window_size=(7, 7), num_heads=3\n",
       "              (qkv): Linear(in_features=96, out_features=288, bias=True)\n",
       "              (attn_drop): Dropout(p=0.0, inplace=False)\n",
       "              (proj): Linear(in_features=96, out_features=96, bias=True)\n",
       "              (proj_drop): Dropout(p=0.0, inplace=False)\n",
       "              (softmax): Softmax(dim=-1)\n",
       "            )\n",
       "            (drop_path): Identity()\n",
       "            (norm2): LayerNorm((96,), eps=1e-05, elementwise_affine=True)\n",
       "            (mlp): Mlp(\n",
       "              (fc1): Linear(in_features=96, out_features=384, bias=True)\n",
       "              (act): GELU(approximate='none')\n",
       "              (fc2): Linear(in_features=384, out_features=96, bias=True)\n",
       "              (drop): Dropout(p=0.0, inplace=False)\n",
       "            )\n",
       "          )\n",
       "          (1): SwinTransformerBlock(\n",
       "            dim=96, input_resolution=(56, 56), num_heads=3, window_size=7, shift_size=3, mlp_ratio=4.0\n",
       "            (norm1): LayerNorm((96,), eps=1e-05, elementwise_affine=True)\n",
       "            (attn): WindowAttention(\n",
       "              dim=96, window_size=(7, 7), num_heads=3\n",
       "              (qkv): Linear(in_features=96, out_features=288, bias=True)\n",
       "              (attn_drop): Dropout(p=0.0, inplace=False)\n",
       "              (proj): Linear(in_features=96, out_features=96, bias=True)\n",
       "              (proj_drop): Dropout(p=0.0, inplace=False)\n",
       "              (softmax): Softmax(dim=-1)\n",
       "            )\n",
       "            (drop_path): DropPath(drop_prob=0.029)\n",
       "            (norm2): LayerNorm((96,), eps=1e-05, elementwise_affine=True)\n",
       "            (mlp): Mlp(\n",
       "              (fc1): Linear(in_features=96, out_features=384, bias=True)\n",
       "              (act): GELU(approximate='none')\n",
       "              (fc2): Linear(in_features=384, out_features=96, bias=True)\n",
       "              (drop): Dropout(p=0.0, inplace=False)\n",
       "            )\n",
       "          )\n",
       "        )\n",
       "      )\n",
       "    )\n",
       "    (concat_back_dim): ModuleList(\n",
       "      (0): Identity()\n",
       "      (1): Linear(in_features=768, out_features=384, bias=True)\n",
       "      (2): Linear(in_features=384, out_features=192, bias=True)\n",
       "      (3): Linear(in_features=192, out_features=96, bias=True)\n",
       "    )\n",
       "    (norm): LayerNorm((768,), eps=1e-05, elementwise_affine=True)\n",
       "    (norm_up): LayerNorm((96,), eps=1e-05, elementwise_affine=True)\n",
       "    (up): FinalPatchExpand_X4(\n",
       "      (expand): Linear(in_features=96, out_features=1536, bias=False)\n",
       "      (norm): LayerNorm((96,), eps=1e-05, elementwise_affine=True)\n",
       "    )\n",
       "    (output): Conv2d(96, 2, kernel_size=(1, 1), stride=(1, 1), bias=False)\n",
       "  )\n",
       ")"
      ]
     },
     "execution_count": 24,
     "metadata": {},
     "output_type": "execute_result"
    }
   ],
   "source": [
    "model.train()"
   ]
  },
  {
   "cell_type": "code",
   "execution_count": 25,
   "metadata": {},
   "outputs": [],
   "source": [
    "ce_loss = CrossEntropyLoss()\n",
    "dice_loss = DiceLoss(2)\n",
    "base_lr = 0.05\n",
    "optimizer = optim.SGD(model.parameters(), lr=base_lr, momentum=0.9, weight_decay=0.0001)"
   ]
  },
  {
   "cell_type": "code",
   "execution_count": 26,
   "metadata": {},
   "outputs": [],
   "source": [
    "iter_num = 0\n",
    "max_epoch = 500\n",
    "max_iterations = max_epoch * len(trainloader)"
   ]
  },
  {
   "cell_type": "code",
   "execution_count": 27,
   "metadata": {},
   "outputs": [],
   "source": [
    "best_performance = 0.0\n",
    "snapshot_path = 'snapshots'"
   ]
  },
  {
   "cell_type": "code",
   "execution_count": 28,
   "metadata": {
    "scrolled": true
   },
   "outputs": [
    {
     "name": "stderr",
     "output_type": "stream",
     "text": [
      "\r",
      "  0%|                                                                       | 0/500 [00:00<?, ?it/s]"
     ]
    },
    {
     "name": "stdout",
     "output_type": "stream",
     "text": [
      "Epoch: 0\t99.79% complete. 167.49 seconds elapsed in epoch.\r"
     ]
    },
    {
     "name": "stderr",
     "output_type": "stream",
     "text": [
      "\r",
      "  0%|                                                           | 1/500 [02:47<23:15:46, 167.83s/it]"
     ]
    },
    {
     "name": "stdout",
     "output_type": "stream",
     "text": [
      "Epoch: 1\t100.00% complete. 166.03 seconds elapsed in epoch.\r"
     ]
    },
    {
     "name": "stderr",
     "output_type": "stream",
     "text": [
      "\r",
      "  0%|▏                                                          | 2/500 [05:33<23:04:46, 166.84s/it]"
     ]
    },
    {
     "name": "stdout",
     "output_type": "stream",
     "text": [
      "Epoch: 2\t100.00% complete. 166.51 seconds elapsed in epoch.\r"
     ]
    },
    {
     "name": "stderr",
     "output_type": "stream",
     "text": [
      "\r",
      "  1%|▎                                                          | 3/500 [08:20<23:01:12, 166.74s/it]"
     ]
    },
    {
     "name": "stdout",
     "output_type": "stream",
     "text": [
      "Epoch: 3\t100.00% complete. 180.62 seconds elapsed in epoch.\r"
     ]
    },
    {
     "name": "stderr",
     "output_type": "stream",
     "text": [
      "\r",
      "  1%|▍                                                          | 4/500 [11:21<23:44:04, 172.27s/it]"
     ]
    },
    {
     "name": "stdout",
     "output_type": "stream",
     "text": [
      "Epoch: 4\t100.00% complete. 175.88 seconds elapsed in epoch.\r"
     ]
    },
    {
     "name": "stderr",
     "output_type": "stream",
     "text": [
      "\r",
      "  1%|▌                                                          | 5/500 [14:17<23:52:18, 173.61s/it]"
     ]
    },
    {
     "name": "stdout",
     "output_type": "stream",
     "text": [
      "Epoch: 5\t100.00% complete. 175.21 seconds elapsed in epoch.\r"
     ]
    },
    {
     "name": "stderr",
     "output_type": "stream",
     "text": [
      "\r",
      "  1%|▋                                                          | 6/500 [17:12<23:54:12, 174.19s/it]"
     ]
    },
    {
     "name": "stdout",
     "output_type": "stream",
     "text": [
      "Epoch: 6\t100.00% complete. 176.18 seconds elapsed in epoch.\r"
     ]
    },
    {
     "name": "stderr",
     "output_type": "stream",
     "text": [
      "\r",
      "  1%|▊                                                          | 7/500 [20:08<23:56:57, 174.88s/it]"
     ]
    },
    {
     "name": "stdout",
     "output_type": "stream",
     "text": [
      "Epoch: 7\t100.00% complete. 179.20 seconds elapsed in epoch.\r"
     ]
    },
    {
     "name": "stderr",
     "output_type": "stream",
     "text": [
      "\r",
      "  2%|▉                                                          | 8/500 [23:08<24:05:36, 176.29s/it]"
     ]
    },
    {
     "name": "stdout",
     "output_type": "stream",
     "text": [
      "Epoch: 8\t100.00% complete. 172.57 seconds elapsed in epoch.\r"
     ]
    },
    {
     "name": "stderr",
     "output_type": "stream",
     "text": [
      "\r",
      "  2%|█                                                          | 9/500 [26:00<23:53:25, 175.16s/it]"
     ]
    },
    {
     "name": "stdout",
     "output_type": "stream",
     "text": [
      "Epoch: 9\t99.79% complete. 173.66 seconds elapsed in epoch.\r"
     ]
    },
    {
     "name": "stderr",
     "output_type": "stream",
     "text": [
      "\r",
      "  2%|█▏                                                        | 10/500 [28:54<23:47:31, 174.80s/it]"
     ]
    },
    {
     "name": "stdout",
     "output_type": "stream",
     "text": [
      "Epoch: 10\t100.00% complete. 173.91 seconds elapsed in epoch.\r"
     ]
    },
    {
     "name": "stderr",
     "output_type": "stream",
     "text": [
      "\r",
      "  2%|█▎                                                        | 11/500 [31:48<23:42:42, 174.57s/it]"
     ]
    },
    {
     "name": "stdout",
     "output_type": "stream",
     "text": [
      "Epoch: 11\t100.00% complete. 174.93 seconds elapsed in epoch.\r"
     ]
    },
    {
     "name": "stderr",
     "output_type": "stream",
     "text": [
      "\r",
      "  2%|█▍                                                        | 12/500 [34:44<23:40:59, 174.71s/it]"
     ]
    },
    {
     "name": "stdout",
     "output_type": "stream",
     "text": [
      "Epoch: 12\t100.00% complete. 177.06 seconds elapsed in epoch.\r"
     ]
    },
    {
     "name": "stderr",
     "output_type": "stream",
     "text": [
      "\r",
      "  3%|█▌                                                        | 13/500 [37:41<23:44:06, 175.46s/it]"
     ]
    },
    {
     "name": "stdout",
     "output_type": "stream",
     "text": [
      "Epoch: 13\t100.00% complete. 175.45 seconds elapsed in epoch.\r"
     ]
    },
    {
     "name": "stderr",
     "output_type": "stream",
     "text": [
      "\r",
      "  3%|█▌                                                        | 14/500 [40:36<23:41:26, 175.49s/it]"
     ]
    },
    {
     "name": "stdout",
     "output_type": "stream",
     "text": [
      "Epoch: 14\t100.00% complete. 175.44 seconds elapsed in epoch.\r"
     ]
    },
    {
     "name": "stderr",
     "output_type": "stream",
     "text": [
      "\r",
      "  3%|█▋                                                        | 15/500 [43:32<23:38:42, 175.51s/it]"
     ]
    },
    {
     "name": "stdout",
     "output_type": "stream",
     "text": [
      "Epoch: 15\t10.71% complete. 18.85 seconds elapsed in epoch.\r"
     ]
    },
    {
     "name": "stderr",
     "output_type": "stream",
     "text": [
      "  3%|█▋                                                        | 15/500 [43:51<23:38:07, 175.44s/it]\n"
     ]
    },
    {
     "ename": "KeyboardInterrupt",
     "evalue": "",
     "output_type": "error",
     "traceback": [
      "\u001b[1;31m---------------------------------------------------------------------------\u001b[0m",
      "\u001b[1;31mKeyboardInterrupt\u001b[0m                         Traceback (most recent call last)",
      "Cell \u001b[1;32mIn[28], line 27\u001b[0m\n\u001b[0;32m     24\u001b[0m \u001b[38;5;28;01mfor\u001b[39;00m param_group \u001b[38;5;129;01min\u001b[39;00m optimizer\u001b[38;5;241m.\u001b[39mparam_groups:\n\u001b[0;32m     25\u001b[0m     param_group[\u001b[38;5;124m'\u001b[39m\u001b[38;5;124mlr\u001b[39m\u001b[38;5;124m'\u001b[39m] \u001b[38;5;241m=\u001b[39m lr_\n\u001b[1;32m---> 27\u001b[0m history_ce \u001b[38;5;241m+\u001b[39m\u001b[38;5;241m=\u001b[39m \u001b[43mloss_ce\u001b[49m\u001b[38;5;241;43m.\u001b[39;49m\u001b[43mitem\u001b[49m\u001b[43m(\u001b[49m\u001b[43m)\u001b[49m \u001b[38;5;241m*\u001b[39m image_batch\u001b[38;5;241m.\u001b[39msize(\u001b[38;5;241m0\u001b[39m)\n\u001b[0;32m     28\u001b[0m history_dice \u001b[38;5;241m+\u001b[39m\u001b[38;5;241m=\u001b[39m loss_dice\u001b[38;5;241m.\u001b[39mitem() \u001b[38;5;241m*\u001b[39m image_batch\u001b[38;5;241m.\u001b[39msize(\u001b[38;5;241m0\u001b[39m)\n\u001b[0;32m     29\u001b[0m history_loss \u001b[38;5;241m+\u001b[39m\u001b[38;5;241m=\u001b[39m loss\u001b[38;5;241m.\u001b[39mitem() \u001b[38;5;241m*\u001b[39m image_batch\u001b[38;5;241m.\u001b[39msize(\u001b[38;5;241m0\u001b[39m)\n",
      "\u001b[1;31mKeyboardInterrupt\u001b[0m: "
     ]
    }
   ],
   "source": [
    "overall_start = timer()\n",
    "history = []\n",
    "\n",
    "iterator = tqdm(range(max_epoch), ncols=100)\n",
    "for epoch_num in iterator:\n",
    "    start = timer()\n",
    "    history_ce = 0.0\n",
    "    history_dice = 0.0\n",
    "    history_loss = 0.0\n",
    "    for i_batch, sampled_batch in enumerate(trainloader):\n",
    "        image_batch, label_batch = sampled_batch['image'], sampled_batch['label']\n",
    "        image_batch, label_batch = image_batch.cuda(), label_batch.cuda()\n",
    "        \n",
    "        outputs = model(image_batch)\n",
    "        \n",
    "        loss_ce = ce_loss(outputs, label_batch.squeeze(1).long())\n",
    "        loss_dice = dice_loss(outputs, label_batch.squeeze(1), softmax=True)\n",
    "        loss = 0.4 * loss_ce + 0.6 * loss_dice\n",
    "        \n",
    "        optimizer.zero_grad()\n",
    "        loss.backward()\n",
    "        optimizer.step()\n",
    "        lr_ = base_lr * (1.0 - iter_num / max_iterations) ** 0.9\n",
    "        for param_group in optimizer.param_groups:\n",
    "            param_group['lr'] = lr_\n",
    "\n",
    "        history_ce += loss_ce.item()\n",
    "        history_dice += loss_dice.item()\n",
    "        history_loss += loss.item()\n",
    "        iter_num += 1\n",
    "        # Track training progress\n",
    "        print(\n",
    "            f'Epoch: {epoch_num}\\t{100 * (i_batch + 1) / len(trainloader):.2f}% complete. {timer() - start:.2f} seconds elapsed in epoch.',\n",
    "            end='\\r')\n",
    "        \n",
    "    history_ce /= len(trainloader)\n",
    "    history_dice /= len(trainloader)\n",
    "    history_loss /= len(trainloader)\n",
    "    history.append([history_ce, history_dice, history_loss])\n",
    "    \n",
    "    save_history_path = os.path.join(snapshot_path, 'epoch_' + str(epoch_num) + '_history.npz')\n",
    "    np.savez_compressed(save_history_path, history=history)\n",
    "    save_model_path = os.path.join(snapshot_path, 'epoch_' + str(epoch_num) + '.pth')\n",
    "    torch.save(model.state_dict(), save_model_path)\n",
    "    print(\"Saved model to {}\".format(save_model_path))\n",
    "iterator.close()\n",
    "\n",
    "total_time = timer() - overall_start\n",
    "print(f'{total_time:.2f} total seconds elapsed. {total_time / (max_epoch+1):.2f} seconds per epoch.')"
   ]
  },
  {
   "cell_type": "code",
   "execution_count": 31,
   "metadata": {},
   "outputs": [
    {
     "name": "stdout",
     "output_type": "stream",
     "text": [
      "[[0.23468151 5.91092386 3.64042706]\n",
      " [0.2217117  5.87669821 3.61470375]\n",
      " [0.226814   5.87760525 3.6172889 ]\n",
      " [0.21590531 5.69668952 3.50437597]\n",
      " [0.1531178  4.97912012 3.04871931]\n",
      " [0.13365945 4.75537933 2.9066915 ]\n",
      " [0.0992101  4.35192335 2.65083816]\n",
      " [0.10269802 4.28780727 2.61376368]\n",
      " [0.09335303 4.17197641 2.54052715]\n",
      " [0.08492277 4.09940214 2.49361049]\n",
      " [0.08220279 4.03483093 2.45377978]\n",
      " [0.08221185 3.97925924 2.42044038]\n",
      " [0.0815304  4.12073748 2.50505475]\n",
      " [0.07374155 3.9157478  2.37894539]\n",
      " [0.07117305 3.83088651 2.32700123]]\n"
     ]
    },
    {
     "data": {
      "image/png": "[encoded data removed]",
      "text/plain": [
       "<Figure size 800x600 with 1 Axes>"
      ]
     },
     "metadata": {},
     "output_type": "display_data"
    }
   ],
   "source": [
    "history_path = os.path.join(snapshot_path, 'epoch_500_history.npz')\n",
    "history = np.load(history_path)['history']\n",
    "print(history)\n",
    "\n",
    "history_np = np.array(history)\n",
    "\n",
    "history_np /= 12\n",
    "\n",
    "plt.figure(figsize=(8, 6))\n",
    "# plt.plot(history_np[:, 0], label=\"Average Cross Entropy Loss\")\n",
    "plt.plot(history_np[:, 1], label=\"Average Dice Loss\")\n",
    "# plt.plot(history_np[:, 2], label=\"Average Cross Entropy Loss\")\n",
    "plt.legend()\n",
    "plt.xlabel('Epoch')\n",
    "plt.ylabel('Loss')\n",
    "plt.title('Losses')\n",
    "plt.show()"
   ]
  },
  {
   "cell_type": "code",
   "execution_count": null,
   "metadata": {},
   "outputs": [],
   "source": [
    "model = SwinUnet(config, img_size=224, num_classes=2).cuda()\n",
    "model.load_from(config)\n",
    "model.load_state_dict(torch.load('snapshots/epoch_0.pth'))"
   ]
  }
 ],
 "metadata": {
  "accelerator": "GPU",
  "colab": {
   "gpuType": "T4",
   "provenance": []
  },
  "kernelspec": {
   "display_name": "Python 3 (ipykernel)",
   "language": "python",
   "name": "python3"
  },
  "language_info": {
   "codemirror_mode": {
    "name": "ipython",
    "version": 3
   },
   "file_extension": ".py",
   "mimetype": "text/x-python",
   "name": "python",
   "nbconvert_exporter": "python",
   "pygments_lexer": "ipython3",
   "version": "3.8.16"
  }
 },
 "nbformat": 4,
 "nbformat_minor": 1
}
