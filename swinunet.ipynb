{
 "cells": [
  {
   "cell_type": "code",
   "execution_count": 1,
   "metadata": {
    "colab": {
     "base_uri": "https://localhost:8080/"
    },
    "executionInfo": {
     "elapsed": 19096,
     "status": "ok",
     "timestamp": 1708324775374,
     "user": {
      "displayName": "NGKD",
      "userId": "00773922209354261622"
     },
     "user_tz": 360
    },
    "id": "4MdtSq298luC",
    "outputId": "50475c3f-52cf-4fbb-e357-eb783668a347"
   },
   "outputs": [],
   "source": [
    "# from google.colab import drive\n",
    "# drive.mount('/content/drive')"
   ]
  },
  {
   "cell_type": "code",
   "execution_count": 2,
   "metadata": {
    "scrolled": true
   },
   "outputs": [
    {
     "name": "stderr",
     "output_type": "stream",
     "text": [
      "WARNING: Ignoring invalid distribution -rotobuf (c:\\users\\jovian\\anaconda3\\envs\\python38\\lib\\site-packages)\n",
      "WARNING: Ignoring invalid distribution -rotobuf (c:\\users\\jovian\\anaconda3\\envs\\python38\\lib\\site-packages)\n",
      "WARNING: Ignoring invalid distribution -rotobuf (c:\\users\\jovian\\anaconda3\\envs\\python38\\lib\\site-packages)\n",
      "WARNING: Ignoring invalid distribution -rotobuf (c:\\users\\jovian\\anaconda3\\envs\\python38\\lib\\site-packages)\n",
      "WARNING: Ignoring invalid distribution -rotobuf (c:\\users\\jovian\\anaconda3\\envs\\python38\\lib\\site-packages)\n",
      "WARNING: Ignoring invalid distribution -rotobuf (c:\\users\\jovian\\anaconda3\\envs\\python38\\lib\\site-packages)\n"
     ]
    },
    {
     "name": "stdout",
     "output_type": "stream",
     "text": [
      "Requirement already satisfied: torch in c:\\users\\jovian\\anaconda3\\envs\\python38\\lib\\site-packages (from -r requirements.txt (line 1)) (2.1.2)\n",
      "Requirement already satisfied: torchvision in c:\\users\\jovian\\anaconda3\\envs\\python38\\lib\\site-packages (from -r requirements.txt (line 2)) (0.16.2)\n",
      "Requirement already satisfied: numpy in c:\\users\\jovian\\anaconda3\\envs\\python38\\lib\\site-packages (from -r requirements.txt (line 3)) (1.24.3)\n",
      "Requirement already satisfied: tqdm in c:\\users\\jovian\\anaconda3\\envs\\python38\\lib\\site-packages (from -r requirements.txt (line 4)) (4.66.2)\n",
      "Requirement already satisfied: ml-collections in c:\\users\\jovian\\anaconda3\\envs\\python38\\lib\\site-packages (from -r requirements.txt (line 7)) (0.1.1)\n",
      "Requirement already satisfied: medpy in c:\\users\\jovian\\anaconda3\\envs\\python38\\lib\\site-packages (from -r requirements.txt (line 8)) (0.4.0)\n",
      "Requirement already satisfied: SimpleITK in c:\\users\\jovian\\anaconda3\\envs\\python38\\lib\\site-packages (from -r requirements.txt (line 9)) (2.3.1)\n",
      "Requirement already satisfied: scipy in c:\\users\\jovian\\anaconda3\\envs\\python38\\lib\\site-packages (from -r requirements.txt (line 10)) (1.10.1)\n",
      "Requirement already satisfied: h5py in c:\\users\\jovian\\anaconda3\\envs\\python38\\lib\\site-packages (from -r requirements.txt (line 11)) (3.8.0)\n",
      "Requirement already satisfied: timm in c:\\users\\jovian\\anaconda3\\envs\\python38\\lib\\site-packages (from -r requirements.txt (line 12)) (0.9.16)\n",
      "Requirement already satisfied: einops in c:\\users\\jovian\\anaconda3\\envs\\python38\\lib\\site-packages (from -r requirements.txt (line 13)) (0.7.0)\n",
      "Requirement already satisfied: filelock in c:\\users\\jovian\\anaconda3\\envs\\python38\\lib\\site-packages (from torch->-r requirements.txt (line 1)) (3.13.1)\n",
      "Requirement already satisfied: typing-extensions in c:\\users\\jovian\\anaconda3\\envs\\python38\\lib\\site-packages (from torch->-r requirements.txt (line 1)) (4.9.0)\n",
      "Requirement already satisfied: sympy in c:\\users\\jovian\\anaconda3\\envs\\python38\\lib\\site-packages (from torch->-r requirements.txt (line 1)) (1.12)\n",
      "Requirement already satisfied: networkx in c:\\users\\jovian\\anaconda3\\envs\\python38\\lib\\site-packages (from torch->-r requirements.txt (line 1)) (3.1)\n",
      "Requirement already satisfied: jinja2 in c:\\users\\jovian\\anaconda3\\envs\\python38\\lib\\site-packages (from torch->-r requirements.txt (line 1)) (3.1.2)\n",
      "Requirement already satisfied: fsspec in c:\\users\\jovian\\anaconda3\\envs\\python38\\lib\\site-packages (from torch->-r requirements.txt (line 1)) (2023.12.2)\n",
      "Requirement already satisfied: requests in c:\\users\\jovian\\anaconda3\\envs\\python38\\lib\\site-packages (from torchvision->-r requirements.txt (line 2)) (2.31.0)\n",
      "Requirement already satisfied: pillow!=8.3.*,>=5.3.0 in c:\\users\\jovian\\anaconda3\\envs\\python38\\lib\\site-packages (from torchvision->-r requirements.txt (line 2)) (10.0.1)\n",
      "Requirement already satisfied: colorama in c:\\users\\jovian\\anaconda3\\envs\\python38\\lib\\site-packages (from tqdm->-r requirements.txt (line 4)) (0.4.6)\n",
      "Requirement already satisfied: PyYAML in c:\\users\\jovian\\anaconda3\\envs\\python38\\lib\\site-packages (from ml-collections->-r requirements.txt (line 7)) (6.0.1)\n",
      "Requirement already satisfied: six in c:\\users\\jovian\\anaconda3\\envs\\python38\\lib\\site-packages (from ml-collections->-r requirements.txt (line 7)) (1.16.0)\n",
      "Requirement already satisfied: contextlib2 in c:\\users\\jovian\\anaconda3\\envs\\python38\\lib\\site-packages (from ml-collections->-r requirements.txt (line 7)) (21.6.0)\n",
      "Requirement already satisfied: absl-py in c:\\users\\jovian\\anaconda3\\envs\\python38\\lib\\site-packages (from ml-collections->-r requirements.txt (line 7)) (1.4.0)\n",
      "Requirement already satisfied: huggingface_hub in c:\\users\\jovian\\anaconda3\\envs\\python38\\lib\\site-packages (from timm->-r requirements.txt (line 12)) (0.21.1)\n",
      "Requirement already satisfied: safetensors in c:\\users\\jovian\\anaconda3\\envs\\python38\\lib\\site-packages (from timm->-r requirements.txt (line 12)) (0.4.2)\n",
      "Requirement already satisfied: packaging>=20.9 in c:\\users\\jovian\\anaconda3\\envs\\python38\\lib\\site-packages (from huggingface_hub->timm->-r requirements.txt (line 12)) (23.0)\n",
      "Requirement already satisfied: MarkupSafe>=2.0 in c:\\users\\jovian\\anaconda3\\envs\\python38\\lib\\site-packages (from jinja2->torch->-r requirements.txt (line 1)) (2.1.3)\n",
      "Requirement already satisfied: charset-normalizer<4,>=2 in c:\\users\\jovian\\anaconda3\\envs\\python38\\lib\\site-packages (from requests->torchvision->-r requirements.txt (line 2)) (3.0.1)\n",
      "Requirement already satisfied: idna<4,>=2.5 in c:\\users\\jovian\\anaconda3\\envs\\python38\\lib\\site-packages (from requests->torchvision->-r requirements.txt (line 2)) (3.4)\n",
      "Requirement already satisfied: urllib3<3,>=1.21.1 in c:\\users\\jovian\\anaconda3\\envs\\python38\\lib\\site-packages (from requests->torchvision->-r requirements.txt (line 2)) (1.26.18)\n",
      "Requirement already satisfied: certifi>=2017.4.17 in c:\\users\\jovian\\anaconda3\\envs\\python38\\lib\\site-packages (from requests->torchvision->-r requirements.txt (line 2)) (2023.11.17)\n",
      "Requirement already satisfied: mpmath>=0.19 in c:\\users\\jovian\\anaconda3\\envs\\python38\\lib\\site-packages (from sympy->torch->-r requirements.txt (line 1)) (1.3.0)\n"
     ]
    }
   ],
   "source": [
    "!pip install -r requirements.txt"
   ]
  },
  {
   "cell_type": "code",
   "execution_count": 26,
   "metadata": {},
   "outputs": [
    {
     "name": "stdout",
     "output_type": "stream",
     "text": [
      "Collecting nilearn\n",
      "  Downloading nilearn-0.10.3-py3-none-any.whl (10.4 MB)\n",
      "     --------------------------------------- 10.4/10.4 MB 59.5 MB/s eta 0:00:00\n",
      "Requirement already satisfied: requests>=2.25.0 in c:\\users\\jovian\\anaconda3\\envs\\python38\\lib\\site-packages (from nilearn) (2.31.0)\n",
      "Requirement already satisfied: numpy>=1.19.0 in c:\\users\\jovian\\anaconda3\\envs\\python38\\lib\\site-packages (from nilearn) (1.24.4)\n",
      "Requirement already satisfied: scipy>=1.8.0 in c:\\users\\jovian\\anaconda3\\envs\\python38\\lib\\site-packages (from nilearn) (1.10.1)\n",
      "Requirement already satisfied: scikit-learn>=1.0.0 in c:\\users\\jovian\\anaconda3\\envs\\python38\\lib\\site-packages (from nilearn) (1.2.1)\n",
      "Requirement already satisfied: nibabel>=4.0.0 in c:\\users\\jovian\\anaconda3\\envs\\python38\\lib\\site-packages (from nilearn) (5.2.1)\n",
      "Requirement already satisfied: joblib>=1.0.0 in c:\\users\\jovian\\anaconda3\\envs\\python38\\lib\\site-packages (from nilearn) (1.2.0)\n",
      "Requirement already satisfied: packaging in c:\\users\\jovian\\anaconda3\\envs\\python38\\lib\\site-packages (from nilearn) (23.0)\n",
      "Collecting lxml\n",
      "  Downloading lxml-5.1.0-cp38-cp38-win_amd64.whl (3.9 MB)\n",
      "     ---------------------------------------- 3.9/3.9 MB 41.5 MB/s eta 0:00:00\n",
      "Requirement already satisfied: pandas>=1.1.5 in c:\\users\\jovian\\anaconda3\\envs\\python38\\lib\\site-packages (from nilearn) (1.5.3)\n",
      "Requirement already satisfied: importlib-resources>=1.3 in c:\\users\\jovian\\anaconda3\\envs\\python38\\lib\\site-packages (from nibabel>=4.0.0->nilearn) (5.10.2)\n",
      "Requirement already satisfied: pytz>=2020.1 in c:\\users\\jovian\\anaconda3\\envs\\python38\\lib\\site-packages (from pandas>=1.1.5->nilearn) (2022.7.1)\n",
      "Requirement already satisfied: python-dateutil>=2.8.1 in c:\\users\\jovian\\anaconda3\\envs\\python38\\lib\\site-packages (from pandas>=1.1.5->nilearn) (2.8.2)\n",
      "Requirement already satisfied: urllib3<3,>=1.21.1 in c:\\users\\jovian\\anaconda3\\envs\\python38\\lib\\site-packages (from requests>=2.25.0->nilearn) (1.26.18)\n",
      "Requirement already satisfied: idna<4,>=2.5 in c:\\users\\jovian\\anaconda3\\envs\\python38\\lib\\site-packages (from requests>=2.25.0->nilearn) (3.4)\n",
      "Requirement already satisfied: charset-normalizer<4,>=2 in c:\\users\\jovian\\anaconda3\\envs\\python38\\lib\\site-packages (from requests>=2.25.0->nilearn) (3.0.1)\n",
      "Requirement already satisfied: certifi>=2017.4.17 in c:\\users\\jovian\\anaconda3\\envs\\python38\\lib\\site-packages (from requests>=2.25.0->nilearn) (2023.11.17)\n",
      "Requirement already satisfied: threadpoolctl>=2.0.0 in c:\\users\\jovian\\anaconda3\\envs\\python38\\lib\\site-packages (from scikit-learn>=1.0.0->nilearn) (3.1.0)\n",
      "Requirement already satisfied: zipp>=3.1.0 in c:\\users\\jovian\\anaconda3\\envs\\python38\\lib\\site-packages (from importlib-resources>=1.3->nibabel>=4.0.0->nilearn) (3.11.0)\n",
      "Requirement already satisfied: six>=1.5 in c:\\users\\jovian\\anaconda3\\envs\\python38\\lib\\site-packages (from python-dateutil>=2.8.1->pandas>=1.1.5->nilearn) (1.16.0)\n",
      "Installing collected packages: lxml, nilearn\n",
      "Successfully installed lxml-5.1.0 nilearn-0.10.3\n"
     ]
    },
    {
     "name": "stderr",
     "output_type": "stream",
     "text": [
      "WARNING: Ignoring invalid distribution -rotobuf (c:\\users\\jovian\\anaconda3\\envs\\python38\\lib\\site-packages)\n",
      "WARNING: Ignoring invalid distribution -rotobuf (c:\\users\\jovian\\anaconda3\\envs\\python38\\lib\\site-packages)\n",
      "WARNING: Ignoring invalid distribution -rotobuf (c:\\users\\jovian\\anaconda3\\envs\\python38\\lib\\site-packages)\n",
      "WARNING: Ignoring invalid distribution -rotobuf (c:\\users\\jovian\\anaconda3\\envs\\python38\\lib\\site-packages)\n",
      "WARNING: Ignoring invalid distribution -rotobuf (c:\\users\\jovian\\anaconda3\\envs\\python38\\lib\\site-packages)\n",
      "WARNING: Ignoring invalid distribution -rotobuf (c:\\users\\jovian\\anaconda3\\envs\\python38\\lib\\site-packages)\n",
      "WARNING: Ignoring invalid distribution -rotobuf (c:\\users\\jovian\\anaconda3\\envs\\python38\\lib\\site-packages)\n",
      "WARNING: Ignoring invalid distribution -rotobuf (c:\\users\\jovian\\anaconda3\\envs\\python38\\lib\\site-packages)\n"
     ]
    }
   ],
   "source": [
    "!pip install nilearn"
   ]
  },
  {
   "cell_type": "code",
   "execution_count": 27,
   "metadata": {
    "id": "xV37eWL2GG0l"
   },
   "outputs": [],
   "source": [
    "import os\n",
    "import numpy as np\n",
    "import tensorflow as tf\n",
    "import nibabel as nib\n",
    "from tensorflow.keras.utils import Sequence\n",
    "from sklearn.model_selection import train_test_split\n",
    "from tensorflow.keras.preprocessing.image import img_to_array, load_img\n",
    "from skimage.transform import resize\n",
    "\n",
    "import argparse\n",
    "import logging\n",
    "import os\n",
    "import random\n",
    "import sys\n",
    "import time\n",
    "import numpy as np\n",
    "import torch\n",
    "import torch.nn as nn\n",
    "import torch.optim as optim\n",
    "from tensorboardX import SummaryWriter\n",
    "from torch.nn.modules.loss import CrossEntropyLoss\n",
    "from torch.utils.data import Dataset, DataLoader\n",
    "from tqdm import tqdm\n",
    "from utils import DiceLoss\n",
    "from torchvision import transforms\n",
    "from utils import test_single_volume\n",
    "\n",
    "import zipfile\n",
    "from timeit import default_timer as timer\n",
    "import matplotlib.pyplot as plt\n",
    "from copy import deepcopy\n",
    "\n",
    "from nilearn import plotting"
   ]
  },
  {
   "cell_type": "code",
   "execution_count": 3,
   "metadata": {},
   "outputs": [
    {
     "name": "stdout",
     "output_type": "stream",
     "text": [
      "=> merge config from configs/swin_tiny_patch4_window7_224_lite.yaml\n"
     ]
    }
   ],
   "source": [
    "from config import get_config\n",
    "\n",
    "args = argparse.ArgumentParser()\n",
    "args.cfg = \"configs/swin_tiny_patch4_window7_224_lite.yaml\"\n",
    "args.batch_size = 12\n",
    "args.cache_mode = 'no'\n",
    "\n",
    "config = get_config(args)"
   ]
  },
  {
   "cell_type": "code",
   "execution_count": 3,
   "metadata": {},
   "outputs": [],
   "source": [
    "# CREATE TRAIN/VAL/TEST LISTS TO STORE WHICH VOIS GO WHERE\n",
    "\n",
    "import os\n",
    "import random\n",
    "\n",
    "image_dir = 'datasets/ULS23_Radboudumc_Bone/images'\n",
    "output_dir = 'datasets'\n",
    "\n",
    "filenames = [image_filename[:-7] for image_filename in os.listdir(image_dir)]\n",
    "random.seed(123)\n",
    "\n",
    "def split_list(data, train_prop=0.6, val_prop=0.2, test_prop=0.2):\n",
    "    if train_prop + val_prop + test_prop != 1:\n",
    "        raise ValueError(\"The proportions must sum up to 1.\")\n",
    "    \n",
    "    random.shuffle(data)\n",
    "    \n",
    "    # Calculate split indices\n",
    "    total_len = len(data)\n",
    "    train_end = int(total_len * train_prop)\n",
    "    val_end = train_end + int(total_len * val_prop)\n",
    "    \n",
    "    # Split the data\n",
    "    train_data = data[:train_end]\n",
    "    val_data = data[train_end:val_end]\n",
    "    test_data = data[val_end:]\n",
    "    \n",
    "    return train_data, val_data, test_data\n",
    "\n",
    "train_data, val_data, test_data = split_list(filenames)\n",
    "\n",
    "def save_list(data, output_dir, filename):\n",
    "    file_path = os.path.join(output_dir, filename)\n",
    "    with open(file_path, 'w') as file:\n",
    "        for item in data:\n",
    "            file.write(f\"{item}\\n\")\n",
    "            \n",
    "save_list(train_data, output_dir, \"bone_train.txt\")\n",
    "save_list(val_data, output_dir, \"bone_val.txt\")\n",
    "save_list(test_data, output_dir, \"bone_test.txt\")"
   ]
  },
  {
   "cell_type": "code",
   "execution_count": 4,
   "metadata": {},
   "outputs": [
    {
     "name": "stderr",
     "output_type": "stream",
     "text": [
      "100%|████████████████████████████████████████████████████████████████████████| 1488/1488 [00:00<00:00, 1939.76it/s]"
     ]
    },
    {
     "name": "stdout",
     "output_type": "stream",
     "text": [
      "Unzipping done.\n"
     ]
    },
    {
     "name": "stderr",
     "output_type": "stream",
     "text": [
      "\n"
     ]
    }
   ],
   "source": [
    "# UNZIP THE LABEL DATA\n",
    "\n",
    "from tqdm import tqdm\n",
    "import os\n",
    "import zipfile\n",
    "\n",
    "label_dir = 'datasets/ULS23_Radboudumc_Bone/labels'\n",
    "\n",
    "# Loop through the image files\n",
    "for filename in tqdm(os.listdir(label_dir)):\n",
    "    if filename.endswith('.nii.gz.zip'):\n",
    "        label_path = os.path.join(label_dir, filename)\n",
    "        # Open the zip file\n",
    "        with zipfile.ZipFile(label_path, 'r') as zip_ref:\n",
    "            # Extract all the contents into the same directory\n",
    "            zip_ref.extractall(label_dir)\n",
    "\n",
    "print(\"Unzipping done.\")"
   ]
  },
  {
   "cell_type": "code",
   "execution_count": 4,
   "metadata": {},
   "outputs": [],
   "source": [
    "# CREATE A TORCH DATASET\n",
    "\n",
    "from torch.utils.data import Dataset\n",
    "import os\n",
    "import nibabel as nib\n",
    "import torch\n",
    "\n",
    "class Bone_dataset(Dataset):\n",
    "    '''\n",
    "    Assumes that labels are already unzipped\n",
    "    '''\n",
    "    def __init__(self, image_dir, label_dir, list_dir, split, transform=None):\n",
    "        self.transform = transform\n",
    "        self.split = split\n",
    "        self.sample_list = [line.strip('\\n') for line in open(os.path.join(list_dir, 'bone_'+self.split+'.txt'))]\n",
    "        self.image_dir = image_dir\n",
    "        self.label_dir = label_dir\n",
    "\n",
    "    def __len__(self):\n",
    "        return len(self.sample_list)\n",
    "\n",
    "    def __getitem__(self, idx):\n",
    "        filename = self.sample_list[idx]\n",
    "        image_path = os.path.join(self.image_dir, filename+'.nii.gz')\n",
    "        label_path = os.path.join(self.label_dir, filename+'.nii.gz')\n",
    "        \n",
    "        image = nib.load(image_path).get_fdata()\n",
    "        label = nib.load(label_path).get_fdata()\n",
    "        \n",
    "#         def process_volume(volume):\n",
    "#             # Clip and normalize the volume\n",
    "#             clipped_volume = np.clip(volume, -125, 275)\n",
    "#             min_val, max_val = clipped_volume.min(), clipped_volume.max()\n",
    "#             normalized_volume = (clipped_volume - min_val) / (max_val - min_val)\n",
    "#             return normalized_volume\n",
    "        \n",
    "        # Include any extra preprocessing on image and label here\n",
    "        \n",
    "        image = torch.tensor(image, dtype=torch.float32)\n",
    "        label = torch.tensor(label, dtype=torch.long)\n",
    "\n",
    "        sample = {'image': image, 'label': label}\n",
    "        if self.transform:\n",
    "            sample = self.transform(sample)\n",
    "        sample['case_name'] = self.sample_list[idx]\n",
    "        return sample\n",
    "    \n",
    "\n",
    "image_dir = 'datasets/ULS23_Radboudumc_Bone/images'\n",
    "label_dir = 'datasets/ULS23_Radboudumc_Bone/labels'\n",
    "list_dir = 'datasets'\n",
    "    \n",
    "db_train = Bone_dataset(image_dir, label_dir, list_dir, 'train')\n",
    "db_val = Bone_dataset(image_dir, label_dir, list_dir, 'val')\n",
    "db_test = Bone_dataset(image_dir, label_dir, list_dir, 'test')"
   ]
  },
  {
   "cell_type": "code",
   "execution_count": 5,
   "metadata": {},
   "outputs": [],
   "source": [
    "# CREATE A TORCH DATALOADER\n",
    "\n",
    "from torch.utils.data import DataLoader\n",
    "\n",
    "batch_size = 12\n",
    "\n",
    "trainloader = DataLoader(db_train, batch_size=batch_size, shuffle=True)\n",
    "\n",
    "# Test to see if loader is correct\n",
    "# i_batch, sampled_batch = next(enumerate(trainloader))\n",
    "# image_batch, label_batch = sampled_batch['image'], sampled_batch['label']\n",
    "# print(i_batch)\n",
    "# print(image_batch[0])\n",
    "# print(label_batch[0])\n",
    "# \n",
    "# Use like:\n",
    "# for i_batch, sampled_batch in enumerate(trainloader):\n",
    "#     image_batch, label_batch = sampled_batch['image'], sampled_batch['label']\n",
    "#     image_batch, label_batch = image_batch.cuda(), label_batch.cuda()\n",
    "\n",
    "#     outputs = model(image_batch)\n",
    "#     ..."
   ]
  },
  {
   "cell_type": "code",
   "execution_count": 5,
   "metadata": {},
   "outputs": [
    {
     "name": "stderr",
     "output_type": "stream",
     "text": [
      "100%|████████████████████████████████████████████████████████████████████████████████| 446/446 [09:07<00:00,  1.23s/it]\n",
      "100%|████████████████████████████████████████████████████████████████████████████████| 148/148 [02:51<00:00,  1.16s/it]"
     ]
    },
    {
     "name": "stdout",
     "output_type": "stream",
     "text": [
      "Preprocessing done.\n"
     ]
    },
    {
     "name": "stderr",
     "output_type": "stream",
     "text": [
      "\n"
     ]
    }
   ],
   "source": [
    "# Preprocess data for swin unet\n",
    "# It expects 2d slices, not 3d volume\n",
    "# Expect VOI files to be unzipped\n",
    "\n",
    "def process_volume(volume):\n",
    "    # Clip and normalize the volume\n",
    "    clipped_volume = np.clip(volume, -125, 275)\n",
    "    min_val, max_val = clipped_volume.min(), clipped_volume.max()\n",
    "    normalized_volume = (clipped_volume - min_val) / (max_val - min_val)\n",
    "    return normalized_volume\n",
    "\n",
    "def crop_center(img, cropx, cropy):\n",
    "    y, x, _ = img.shape\n",
    "    startx = x // 2 - (cropx // 2)\n",
    "    starty = y // 2 - (cropy // 2)    \n",
    "    return img[starty:starty+cropy, startx:startx+cropx, :]\n",
    "\n",
    "def process_and_save_slices(volume, label_volume, output_dir, base_filename):\n",
    "    # Ensure the output directory exists\n",
    "    if not os.path.exists(output_dir):\n",
    "        os.makedirs(output_dir)\n",
    "        \n",
    "    # Extract slices and save them\n",
    "    for i in range(volume.shape[2]):  # Assuming the volume shape is (256, 256, 128)\n",
    "        image_slice = volume[:, :, i]\n",
    "        label_slice = label_volume[:, :, i]\n",
    "        \n",
    "        # Crop slices to 224\n",
    "        image_slice = crop_center(image_slice, 224, 224)\n",
    "        label_slice = crop_center(label_slice, 224, 224)\n",
    "        \n",
    "        # Reshape slices to (1, 224, 224)\n",
    "        image_slice = np.transpose(image_slice, (2, 0, 1))\n",
    "        label_slice = np.transpose(label_slice, (2, 0, 1))\n",
    "        \n",
    "        # Save as compressed .npz file\n",
    "        slice_filename = os.path.join(output_dir, f'{base_filename}_slice_{i}.npz')\n",
    "        np.savez_compressed(slice_filename, image=image_slice, label=label_slice)\n",
    "\n",
    "def process_files(files, output_dir):\n",
    "    # Loop through the training files\n",
    "    for base_filename in tqdm(files):\n",
    "        image_path = os.path.join(image_dir, base_filename + '.nii.gz')\n",
    "        label_path = os.path.join(label_dir, base_filename + '.nii.gz')\n",
    "\n",
    "        # Process image volume\n",
    "        image_volume = nib.load(image_path).get_fdata()\n",
    "        image_slices = process_volume(image_volume)\n",
    "\n",
    "        # Process label volume\n",
    "        label_volume = nib.load(label_path).get_fdata()\n",
    "        label_slices = process_volume(label_volume)\n",
    "\n",
    "        # Save slices\n",
    "        process_and_save_slices(image_slices, label_slices, output_dir, base_filename)\n",
    "        \n",
    "image_dir = 'datasets/ULS23_Radboudumc_Bone/images'\n",
    "label_dir = 'datasets/ULS23_Radboudumc_Bone/labels'\n",
    "output_dir = 'datasets/preprocessed'\n",
    "list_dir = 'datasets'\n",
    "\n",
    "training_files = [line.strip('\\n') for line in open(os.path.join(list_dir, 'bone_train.txt'))]\n",
    "val_files = [line.strip('\\n') for line in open(os.path.join(list_dir, 'bone_val.txt'))]\n",
    "\n",
    "process_files(training_files, os.path.join(output_dir, 'train'))\n",
    "process_files(val_files, os.path.join(output_dir, 'val'))\n",
    "\n",
    "print(\"Preprocessing done.\")"
   ]
  },
  {
   "cell_type": "code",
   "execution_count": 14,
   "metadata": {},
   "outputs": [],
   "source": [
    "class NiftiDataset(Dataset):\n",
    "    def __init__(self, slices_dir, transform=None):\n",
    "        self.slices_dir = slices_dir\n",
    "        self.transform = transform\n",
    "        self.filenames = [f for f in os.listdir(slices_dir) if f.endswith('.npz')]\n",
    "\n",
    "    def __len__(self):\n",
    "        return len(self.filenames)\n",
    "\n",
    "    def __getitem__(self, idx):\n",
    "        slice_path = os.path.join(self.slices_dir, self.filenames[idx])\n",
    "        \n",
    "        # Load image\n",
    "        data = np.load(slice_path)\n",
    "        image, label = data['image'], data['label']\n",
    "        image = torch.tensor(image, dtype=torch.float32)\n",
    "        label = torch.tensor(label, dtype=torch.long)\n",
    "        \n",
    "        sample = {'image': image, 'label': label}\n",
    "        if self.transform:\n",
    "            sample = self.transform(sample)\n",
    "        sample['case_name'] = self.filenames[idx].strip('\\n')\n",
    "        return sample"
   ]
  },
  {
   "cell_type": "code",
   "execution_count": 15,
   "metadata": {},
   "outputs": [
    {
     "name": "stdout",
     "output_type": "stream",
     "text": [
      "The length of train set is: 57088\n",
      "The length of val set is: 18944\n"
     ]
    }
   ],
   "source": [
    "train_dir = 'datasets/preprocessed/train'\n",
    "val_dir = 'datasets/preprocessed/val'\n",
    "\n",
    "db_train = NiftiDataset(train_dir)\n",
    "db_val = NiftiDataset(val_dir)\n",
    "print(\"The length of train set is: {}\".format(len(db_train)))\n",
    "print(\"The length of val set is: {}\".format(len(db_val)))\n",
    "\n",
    "trainloader  = DataLoader(db_train, batch_size=args.batch_size, shuffle=True)\n",
    "valloader  = DataLoader(db_val, batch_size=args.batch_size, shuffle=True)"
   ]
  },
  {
   "cell_type": "code",
   "execution_count": 4,
   "metadata": {},
   "outputs": [
    {
     "name": "stderr",
     "output_type": "stream",
     "text": [
      "C:\\Users\\Jovian\\anaconda3\\envs\\python38\\lib\\site-packages\\tqdm\\auto.py:21: TqdmWarning: IProgress not found. Please update jupyter and ipywidgets. See https://ipywidgets.readthedocs.io/en/stable/user_install.html\n",
      "  from .autonotebook import tqdm as notebook_tqdm\n"
     ]
    },
    {
     "name": "stdout",
     "output_type": "stream",
     "text": [
      "SwinTransformerSys expand initial----depths:[2, 2, 2, 2];depths_decoder:[1, 2, 2, 2];drop_path_rate:0.2;num_classes:2\n",
      "---final upsample expand_first---\n"
     ]
    },
    {
     "name": "stderr",
     "output_type": "stream",
     "text": [
      "C:\\Users\\Jovian\\anaconda3\\envs\\python38\\lib\\site-packages\\torch\\functional.py:504: UserWarning: torch.meshgrid: in an upcoming release, it will be required to pass the indexing argument. (Triggered internally at C:\\cb\\pytorch_1000000000000\\work\\aten\\src\\ATen\\native\\TensorShape.cpp:3527.)\n",
      "  return _VF.meshgrid(tensors, **kwargs)  # type: ignore[attr-defined]\n"
     ]
    },
    {
     "name": "stdout",
     "output_type": "stream",
     "text": [
      "pretrained_path:./pretrained_ckpt/swin_tiny_patch4_window7_224.pth\n",
      "---start load pretrained modle of swin encoder---\n"
     ]
    },
    {
     "data": {
      "text/plain": [
       "DataParallel(\n",
       "  (module): SwinUnet(\n",
       "    (swin_unet): SwinTransformerSys(\n",
       "      (patch_embed): PatchEmbed(\n",
       "        (proj): Conv2d(3, 96, kernel_size=(4, 4), stride=(4, 4))\n",
       "        (norm): LayerNorm((96,), eps=1e-05, elementwise_affine=True)\n",
       "      )\n",
       "      (pos_drop): Dropout(p=0.0, inplace=False)\n",
       "      (layers): ModuleList(\n",
       "        (0): BasicLayer(\n",
       "          dim=96, input_resolution=(56, 56), depth=2\n",
       "          (blocks): ModuleList(\n",
       "            (0): SwinTransformerBlock(\n",
       "              dim=96, input_resolution=(56, 56), num_heads=3, window_size=7, shift_size=0, mlp_ratio=4.0\n",
       "              (norm1): LayerNorm((96,), eps=1e-05, elementwise_affine=True)\n",
       "              (attn): WindowAttention(\n",
       "                dim=96, window_size=(7, 7), num_heads=3\n",
       "                (qkv): Linear(in_features=96, out_features=288, bias=True)\n",
       "                (attn_drop): Dropout(p=0.0, inplace=False)\n",
       "                (proj): Linear(in_features=96, out_features=96, bias=True)\n",
       "                (proj_drop): Dropout(p=0.0, inplace=False)\n",
       "                (softmax): Softmax(dim=-1)\n",
       "              )\n",
       "              (drop_path): Identity()\n",
       "              (norm2): LayerNorm((96,), eps=1e-05, elementwise_affine=True)\n",
       "              (mlp): Mlp(\n",
       "                (fc1): Linear(in_features=96, out_features=384, bias=True)\n",
       "                (act): GELU(approximate='none')\n",
       "                (fc2): Linear(in_features=384, out_features=96, bias=True)\n",
       "                (drop): Dropout(p=0.0, inplace=False)\n",
       "              )\n",
       "            )\n",
       "            (1): SwinTransformerBlock(\n",
       "              dim=96, input_resolution=(56, 56), num_heads=3, window_size=7, shift_size=3, mlp_ratio=4.0\n",
       "              (norm1): LayerNorm((96,), eps=1e-05, elementwise_affine=True)\n",
       "              (attn): WindowAttention(\n",
       "                dim=96, window_size=(7, 7), num_heads=3\n",
       "                (qkv): Linear(in_features=96, out_features=288, bias=True)\n",
       "                (attn_drop): Dropout(p=0.0, inplace=False)\n",
       "                (proj): Linear(in_features=96, out_features=96, bias=True)\n",
       "                (proj_drop): Dropout(p=0.0, inplace=False)\n",
       "                (softmax): Softmax(dim=-1)\n",
       "              )\n",
       "              (drop_path): DropPath(drop_prob=0.029)\n",
       "              (norm2): LayerNorm((96,), eps=1e-05, elementwise_affine=True)\n",
       "              (mlp): Mlp(\n",
       "                (fc1): Linear(in_features=96, out_features=384, bias=True)\n",
       "                (act): GELU(approximate='none')\n",
       "                (fc2): Linear(in_features=384, out_features=96, bias=True)\n",
       "                (drop): Dropout(p=0.0, inplace=False)\n",
       "              )\n",
       "            )\n",
       "          )\n",
       "          (downsample): PatchMerging(\n",
       "            input_resolution=(56, 56), dim=96\n",
       "            (reduction): Linear(in_features=384, out_features=192, bias=False)\n",
       "            (norm): LayerNorm((384,), eps=1e-05, elementwise_affine=True)\n",
       "          )\n",
       "        )\n",
       "        (1): BasicLayer(\n",
       "          dim=192, input_resolution=(28, 28), depth=2\n",
       "          (blocks): ModuleList(\n",
       "            (0): SwinTransformerBlock(\n",
       "              dim=192, input_resolution=(28, 28), num_heads=6, window_size=7, shift_size=0, mlp_ratio=4.0\n",
       "              (norm1): LayerNorm((192,), eps=1e-05, elementwise_affine=True)\n",
       "              (attn): WindowAttention(\n",
       "                dim=192, window_size=(7, 7), num_heads=6\n",
       "                (qkv): Linear(in_features=192, out_features=576, bias=True)\n",
       "                (attn_drop): Dropout(p=0.0, inplace=False)\n",
       "                (proj): Linear(in_features=192, out_features=192, bias=True)\n",
       "                (proj_drop): Dropout(p=0.0, inplace=False)\n",
       "                (softmax): Softmax(dim=-1)\n",
       "              )\n",
       "              (drop_path): DropPath(drop_prob=0.057)\n",
       "              (norm2): LayerNorm((192,), eps=1e-05, elementwise_affine=True)\n",
       "              (mlp): Mlp(\n",
       "                (fc1): Linear(in_features=192, out_features=768, bias=True)\n",
       "                (act): GELU(approximate='none')\n",
       "                (fc2): Linear(in_features=768, out_features=192, bias=True)\n",
       "                (drop): Dropout(p=0.0, inplace=False)\n",
       "              )\n",
       "            )\n",
       "            (1): SwinTransformerBlock(\n",
       "              dim=192, input_resolution=(28, 28), num_heads=6, window_size=7, shift_size=3, mlp_ratio=4.0\n",
       "              (norm1): LayerNorm((192,), eps=1e-05, elementwise_affine=True)\n",
       "              (attn): WindowAttention(\n",
       "                dim=192, window_size=(7, 7), num_heads=6\n",
       "                (qkv): Linear(in_features=192, out_features=576, bias=True)\n",
       "                (attn_drop): Dropout(p=0.0, inplace=False)\n",
       "                (proj): Linear(in_features=192, out_features=192, bias=True)\n",
       "                (proj_drop): Dropout(p=0.0, inplace=False)\n",
       "                (softmax): Softmax(dim=-1)\n",
       "              )\n",
       "              (drop_path): DropPath(drop_prob=0.086)\n",
       "              (norm2): LayerNorm((192,), eps=1e-05, elementwise_affine=True)\n",
       "              (mlp): Mlp(\n",
       "                (fc1): Linear(in_features=192, out_features=768, bias=True)\n",
       "                (act): GELU(approximate='none')\n",
       "                (fc2): Linear(in_features=768, out_features=192, bias=True)\n",
       "                (drop): Dropout(p=0.0, inplace=False)\n",
       "              )\n",
       "            )\n",
       "          )\n",
       "          (downsample): PatchMerging(\n",
       "            input_resolution=(28, 28), dim=192\n",
       "            (reduction): Linear(in_features=768, out_features=384, bias=False)\n",
       "            (norm): LayerNorm((768,), eps=1e-05, elementwise_affine=True)\n",
       "          )\n",
       "        )\n",
       "        (2): BasicLayer(\n",
       "          dim=384, input_resolution=(14, 14), depth=2\n",
       "          (blocks): ModuleList(\n",
       "            (0): SwinTransformerBlock(\n",
       "              dim=384, input_resolution=(14, 14), num_heads=12, window_size=7, shift_size=0, mlp_ratio=4.0\n",
       "              (norm1): LayerNorm((384,), eps=1e-05, elementwise_affine=True)\n",
       "              (attn): WindowAttention(\n",
       "                dim=384, window_size=(7, 7), num_heads=12\n",
       "                (qkv): Linear(in_features=384, out_features=1152, bias=True)\n",
       "                (attn_drop): Dropout(p=0.0, inplace=False)\n",
       "                (proj): Linear(in_features=384, out_features=384, bias=True)\n",
       "                (proj_drop): Dropout(p=0.0, inplace=False)\n",
       "                (softmax): Softmax(dim=-1)\n",
       "              )\n",
       "              (drop_path): DropPath(drop_prob=0.114)\n",
       "              (norm2): LayerNorm((384,), eps=1e-05, elementwise_affine=True)\n",
       "              (mlp): Mlp(\n",
       "                (fc1): Linear(in_features=384, out_features=1536, bias=True)\n",
       "                (act): GELU(approximate='none')\n",
       "                (fc2): Linear(in_features=1536, out_features=384, bias=True)\n",
       "                (drop): Dropout(p=0.0, inplace=False)\n",
       "              )\n",
       "            )\n",
       "            (1): SwinTransformerBlock(\n",
       "              dim=384, input_resolution=(14, 14), num_heads=12, window_size=7, shift_size=3, mlp_ratio=4.0\n",
       "              (norm1): LayerNorm((384,), eps=1e-05, elementwise_affine=True)\n",
       "              (attn): WindowAttention(\n",
       "                dim=384, window_size=(7, 7), num_heads=12\n",
       "                (qkv): Linear(in_features=384, out_features=1152, bias=True)\n",
       "                (attn_drop): Dropout(p=0.0, inplace=False)\n",
       "                (proj): Linear(in_features=384, out_features=384, bias=True)\n",
       "                (proj_drop): Dropout(p=0.0, inplace=False)\n",
       "                (softmax): Softmax(dim=-1)\n",
       "              )\n",
       "              (drop_path): DropPath(drop_prob=0.143)\n",
       "              (norm2): LayerNorm((384,), eps=1e-05, elementwise_affine=True)\n",
       "              (mlp): Mlp(\n",
       "                (fc1): Linear(in_features=384, out_features=1536, bias=True)\n",
       "                (act): GELU(approximate='none')\n",
       "                (fc2): Linear(in_features=1536, out_features=384, bias=True)\n",
       "                (drop): Dropout(p=0.0, inplace=False)\n",
       "              )\n",
       "            )\n",
       "          )\n",
       "          (downsample): PatchMerging(\n",
       "            input_resolution=(14, 14), dim=384\n",
       "            (reduction): Linear(in_features=1536, out_features=768, bias=False)\n",
       "            (norm): LayerNorm((1536,), eps=1e-05, elementwise_affine=True)\n",
       "          )\n",
       "        )\n",
       "        (3): BasicLayer(\n",
       "          dim=768, input_resolution=(7, 7), depth=2\n",
       "          (blocks): ModuleList(\n",
       "            (0): SwinTransformerBlock(\n",
       "              dim=768, input_resolution=(7, 7), num_heads=24, window_size=7, shift_size=0, mlp_ratio=4.0\n",
       "              (norm1): LayerNorm((768,), eps=1e-05, elementwise_affine=True)\n",
       "              (attn): WindowAttention(\n",
       "                dim=768, window_size=(7, 7), num_heads=24\n",
       "                (qkv): Linear(in_features=768, out_features=2304, bias=True)\n",
       "                (attn_drop): Dropout(p=0.0, inplace=False)\n",
       "                (proj): Linear(in_features=768, out_features=768, bias=True)\n",
       "                (proj_drop): Dropout(p=0.0, inplace=False)\n",
       "                (softmax): Softmax(dim=-1)\n",
       "              )\n",
       "              (drop_path): DropPath(drop_prob=0.171)\n",
       "              (norm2): LayerNorm((768,), eps=1e-05, elementwise_affine=True)\n",
       "              (mlp): Mlp(\n",
       "                (fc1): Linear(in_features=768, out_features=3072, bias=True)\n",
       "                (act): GELU(approximate='none')\n",
       "                (fc2): Linear(in_features=3072, out_features=768, bias=True)\n",
       "                (drop): Dropout(p=0.0, inplace=False)\n",
       "              )\n",
       "            )\n",
       "            (1): SwinTransformerBlock(\n",
       "              dim=768, input_resolution=(7, 7), num_heads=24, window_size=7, shift_size=0, mlp_ratio=4.0\n",
       "              (norm1): LayerNorm((768,), eps=1e-05, elementwise_affine=True)\n",
       "              (attn): WindowAttention(\n",
       "                dim=768, window_size=(7, 7), num_heads=24\n",
       "                (qkv): Linear(in_features=768, out_features=2304, bias=True)\n",
       "                (attn_drop): Dropout(p=0.0, inplace=False)\n",
       "                (proj): Linear(in_features=768, out_features=768, bias=True)\n",
       "                (proj_drop): Dropout(p=0.0, inplace=False)\n",
       "                (softmax): Softmax(dim=-1)\n",
       "              )\n",
       "              (drop_path): DropPath(drop_prob=0.200)\n",
       "              (norm2): LayerNorm((768,), eps=1e-05, elementwise_affine=True)\n",
       "              (mlp): Mlp(\n",
       "                (fc1): Linear(in_features=768, out_features=3072, bias=True)\n",
       "                (act): GELU(approximate='none')\n",
       "                (fc2): Linear(in_features=3072, out_features=768, bias=True)\n",
       "                (drop): Dropout(p=0.0, inplace=False)\n",
       "              )\n",
       "            )\n",
       "          )\n",
       "        )\n",
       "      )\n",
       "      (layers_up): ModuleList(\n",
       "        (0): PatchExpand(\n",
       "          (expand): Linear(in_features=768, out_features=1536, bias=False)\n",
       "          (norm): LayerNorm((384,), eps=1e-05, elementwise_affine=True)\n",
       "        )\n",
       "        (1): BasicLayer_up(\n",
       "          (blocks): ModuleList(\n",
       "            (0): SwinTransformerBlock(\n",
       "              dim=384, input_resolution=(14, 14), num_heads=12, window_size=7, shift_size=0, mlp_ratio=4.0\n",
       "              (norm1): LayerNorm((384,), eps=1e-05, elementwise_affine=True)\n",
       "              (attn): WindowAttention(\n",
       "                dim=384, window_size=(7, 7), num_heads=12\n",
       "                (qkv): Linear(in_features=384, out_features=1152, bias=True)\n",
       "                (attn_drop): Dropout(p=0.0, inplace=False)\n",
       "                (proj): Linear(in_features=384, out_features=384, bias=True)\n",
       "                (proj_drop): Dropout(p=0.0, inplace=False)\n",
       "                (softmax): Softmax(dim=-1)\n",
       "              )\n",
       "              (drop_path): DropPath(drop_prob=0.114)\n",
       "              (norm2): LayerNorm((384,), eps=1e-05, elementwise_affine=True)\n",
       "              (mlp): Mlp(\n",
       "                (fc1): Linear(in_features=384, out_features=1536, bias=True)\n",
       "                (act): GELU(approximate='none')\n",
       "                (fc2): Linear(in_features=1536, out_features=384, bias=True)\n",
       "                (drop): Dropout(p=0.0, inplace=False)\n",
       "              )\n",
       "            )\n",
       "            (1): SwinTransformerBlock(\n",
       "              dim=384, input_resolution=(14, 14), num_heads=12, window_size=7, shift_size=3, mlp_ratio=4.0\n",
       "              (norm1): LayerNorm((384,), eps=1e-05, elementwise_affine=True)\n",
       "              (attn): WindowAttention(\n",
       "                dim=384, window_size=(7, 7), num_heads=12\n",
       "                (qkv): Linear(in_features=384, out_features=1152, bias=True)\n",
       "                (attn_drop): Dropout(p=0.0, inplace=False)\n",
       "                (proj): Linear(in_features=384, out_features=384, bias=True)\n",
       "                (proj_drop): Dropout(p=0.0, inplace=False)\n",
       "                (softmax): Softmax(dim=-1)\n",
       "              )\n",
       "              (drop_path): DropPath(drop_prob=0.143)\n",
       "              (norm2): LayerNorm((384,), eps=1e-05, elementwise_affine=True)\n",
       "              (mlp): Mlp(\n",
       "                (fc1): Linear(in_features=384, out_features=1536, bias=True)\n",
       "                (act): GELU(approximate='none')\n",
       "                (fc2): Linear(in_features=1536, out_features=384, bias=True)\n",
       "                (drop): Dropout(p=0.0, inplace=False)\n",
       "              )\n",
       "            )\n",
       "          )\n",
       "          (upsample): PatchExpand(\n",
       "            (expand): Linear(in_features=384, out_features=768, bias=False)\n",
       "            (norm): LayerNorm((192,), eps=1e-05, elementwise_affine=True)\n",
       "          )\n",
       "        )\n",
       "        (2): BasicLayer_up(\n",
       "          (blocks): ModuleList(\n",
       "            (0): SwinTransformerBlock(\n",
       "              dim=192, input_resolution=(28, 28), num_heads=6, window_size=7, shift_size=0, mlp_ratio=4.0\n",
       "              (norm1): LayerNorm((192,), eps=1e-05, elementwise_affine=True)\n",
       "              (attn): WindowAttention(\n",
       "                dim=192, window_size=(7, 7), num_heads=6\n",
       "                (qkv): Linear(in_features=192, out_features=576, bias=True)\n",
       "                (attn_drop): Dropout(p=0.0, inplace=False)\n",
       "                (proj): Linear(in_features=192, out_features=192, bias=True)\n",
       "                (proj_drop): Dropout(p=0.0, inplace=False)\n",
       "                (softmax): Softmax(dim=-1)\n",
       "              )\n",
       "              (drop_path): DropPath(drop_prob=0.057)\n",
       "              (norm2): LayerNorm((192,), eps=1e-05, elementwise_affine=True)\n",
       "              (mlp): Mlp(\n",
       "                (fc1): Linear(in_features=192, out_features=768, bias=True)\n",
       "                (act): GELU(approximate='none')\n",
       "                (fc2): Linear(in_features=768, out_features=192, bias=True)\n",
       "                (drop): Dropout(p=0.0, inplace=False)\n",
       "              )\n",
       "            )\n",
       "            (1): SwinTransformerBlock(\n",
       "              dim=192, input_resolution=(28, 28), num_heads=6, window_size=7, shift_size=3, mlp_ratio=4.0\n",
       "              (norm1): LayerNorm((192,), eps=1e-05, elementwise_affine=True)\n",
       "              (attn): WindowAttention(\n",
       "                dim=192, window_size=(7, 7), num_heads=6\n",
       "                (qkv): Linear(in_features=192, out_features=576, bias=True)\n",
       "                (attn_drop): Dropout(p=0.0, inplace=False)\n",
       "                (proj): Linear(in_features=192, out_features=192, bias=True)\n",
       "                (proj_drop): Dropout(p=0.0, inplace=False)\n",
       "                (softmax): Softmax(dim=-1)\n",
       "              )\n",
       "              (drop_path): DropPath(drop_prob=0.086)\n",
       "              (norm2): LayerNorm((192,), eps=1e-05, elementwise_affine=True)\n",
       "              (mlp): Mlp(\n",
       "                (fc1): Linear(in_features=192, out_features=768, bias=True)\n",
       "                (act): GELU(approximate='none')\n",
       "                (fc2): Linear(in_features=768, out_features=192, bias=True)\n",
       "                (drop): Dropout(p=0.0, inplace=False)\n",
       "              )\n",
       "            )\n",
       "          )\n",
       "          (upsample): PatchExpand(\n",
       "            (expand): Linear(in_features=192, out_features=384, bias=False)\n",
       "            (norm): LayerNorm((96,), eps=1e-05, elementwise_affine=True)\n",
       "          )\n",
       "        )\n",
       "        (3): BasicLayer_up(\n",
       "          (blocks): ModuleList(\n",
       "            (0): SwinTransformerBlock(\n",
       "              dim=96, input_resolution=(56, 56), num_heads=3, window_size=7, shift_size=0, mlp_ratio=4.0\n",
       "              (norm1): LayerNorm((96,), eps=1e-05, elementwise_affine=True)\n",
       "              (attn): WindowAttention(\n",
       "                dim=96, window_size=(7, 7), num_heads=3\n",
       "                (qkv): Linear(in_features=96, out_features=288, bias=True)\n",
       "                (attn_drop): Dropout(p=0.0, inplace=False)\n",
       "                (proj): Linear(in_features=96, out_features=96, bias=True)\n",
       "                (proj_drop): Dropout(p=0.0, inplace=False)\n",
       "                (softmax): Softmax(dim=-1)\n",
       "              )\n",
       "              (drop_path): Identity()\n",
       "              (norm2): LayerNorm((96,), eps=1e-05, elementwise_affine=True)\n",
       "              (mlp): Mlp(\n",
       "                (fc1): Linear(in_features=96, out_features=384, bias=True)\n",
       "                (act): GELU(approximate='none')\n",
       "                (fc2): Linear(in_features=384, out_features=96, bias=True)\n",
       "                (drop): Dropout(p=0.0, inplace=False)\n",
       "              )\n",
       "            )\n",
       "            (1): SwinTransformerBlock(\n",
       "              dim=96, input_resolution=(56, 56), num_heads=3, window_size=7, shift_size=3, mlp_ratio=4.0\n",
       "              (norm1): LayerNorm((96,), eps=1e-05, elementwise_affine=True)\n",
       "              (attn): WindowAttention(\n",
       "                dim=96, window_size=(7, 7), num_heads=3\n",
       "                (qkv): Linear(in_features=96, out_features=288, bias=True)\n",
       "                (attn_drop): Dropout(p=0.0, inplace=False)\n",
       "                (proj): Linear(in_features=96, out_features=96, bias=True)\n",
       "                (proj_drop): Dropout(p=0.0, inplace=False)\n",
       "                (softmax): Softmax(dim=-1)\n",
       "              )\n",
       "              (drop_path): DropPath(drop_prob=0.029)\n",
       "              (norm2): LayerNorm((96,), eps=1e-05, elementwise_affine=True)\n",
       "              (mlp): Mlp(\n",
       "                (fc1): Linear(in_features=96, out_features=384, bias=True)\n",
       "                (act): GELU(approximate='none')\n",
       "                (fc2): Linear(in_features=384, out_features=96, bias=True)\n",
       "                (drop): Dropout(p=0.0, inplace=False)\n",
       "              )\n",
       "            )\n",
       "          )\n",
       "        )\n",
       "      )\n",
       "      (concat_back_dim): ModuleList(\n",
       "        (0): Identity()\n",
       "        (1): Linear(in_features=768, out_features=384, bias=True)\n",
       "        (2): Linear(in_features=384, out_features=192, bias=True)\n",
       "        (3): Linear(in_features=192, out_features=96, bias=True)\n",
       "      )\n",
       "      (norm): LayerNorm((768,), eps=1e-05, elementwise_affine=True)\n",
       "      (norm_up): LayerNorm((96,), eps=1e-05, elementwise_affine=True)\n",
       "      (up): FinalPatchExpand_X4(\n",
       "        (expand): Linear(in_features=96, out_features=1536, bias=False)\n",
       "        (norm): LayerNorm((96,), eps=1e-05, elementwise_affine=True)\n",
       "      )\n",
       "      (output): Conv2d(96, 2, kernel_size=(1, 1), stride=(1, 1), bias=False)\n",
       "    )\n",
       "  )\n",
       ")"
      ]
     },
     "execution_count": 4,
     "metadata": {},
     "output_type": "execute_result"
    }
   ],
   "source": [
    "from networks.vision_transformer import SwinUnet\n",
    "\n",
    "model = SwinUnet(config, img_size=224, num_classes=2)\n",
    "model.load_from(config)\n",
    "\n",
    "device = torch.device(\"cuda\" if torch.cuda.is_available() else \"cpu\")\n",
    "\n",
    "model= nn.DataParallel(model)\n",
    "model.to(device)"
   ]
  },
  {
   "cell_type": "code",
   "execution_count": 25,
   "metadata": {},
   "outputs": [
    {
     "data": {
      "text/plain": [
       "DataParallel(\n",
       "  (module): SwinUnet(\n",
       "    (swin_unet): SwinTransformerSys(\n",
       "      (patch_embed): PatchEmbed(\n",
       "        (proj): Conv2d(3, 96, kernel_size=(4, 4), stride=(4, 4))\n",
       "        (norm): LayerNorm((96,), eps=1e-05, elementwise_affine=True)\n",
       "      )\n",
       "      (pos_drop): Dropout(p=0.0, inplace=False)\n",
       "      (layers): ModuleList(\n",
       "        (0): BasicLayer(\n",
       "          dim=96, input_resolution=(56, 56), depth=2\n",
       "          (blocks): ModuleList(\n",
       "            (0): SwinTransformerBlock(\n",
       "              dim=96, input_resolution=(56, 56), num_heads=3, window_size=7, shift_size=0, mlp_ratio=4.0\n",
       "              (norm1): LayerNorm((96,), eps=1e-05, elementwise_affine=True)\n",
       "              (attn): WindowAttention(\n",
       "                dim=96, window_size=(7, 7), num_heads=3\n",
       "                (qkv): Linear(in_features=96, out_features=288, bias=True)\n",
       "                (attn_drop): Dropout(p=0.0, inplace=False)\n",
       "                (proj): Linear(in_features=96, out_features=96, bias=True)\n",
       "                (proj_drop): Dropout(p=0.0, inplace=False)\n",
       "                (softmax): Softmax(dim=-1)\n",
       "              )\n",
       "              (drop_path): Identity()\n",
       "              (norm2): LayerNorm((96,), eps=1e-05, elementwise_affine=True)\n",
       "              (mlp): Mlp(\n",
       "                (fc1): Linear(in_features=96, out_features=384, bias=True)\n",
       "                (act): GELU(approximate='none')\n",
       "                (fc2): Linear(in_features=384, out_features=96, bias=True)\n",
       "                (drop): Dropout(p=0.0, inplace=False)\n",
       "              )\n",
       "            )\n",
       "            (1): SwinTransformerBlock(\n",
       "              dim=96, input_resolution=(56, 56), num_heads=3, window_size=7, shift_size=3, mlp_ratio=4.0\n",
       "              (norm1): LayerNorm((96,), eps=1e-05, elementwise_affine=True)\n",
       "              (attn): WindowAttention(\n",
       "                dim=96, window_size=(7, 7), num_heads=3\n",
       "                (qkv): Linear(in_features=96, out_features=288, bias=True)\n",
       "                (attn_drop): Dropout(p=0.0, inplace=False)\n",
       "                (proj): Linear(in_features=96, out_features=96, bias=True)\n",
       "                (proj_drop): Dropout(p=0.0, inplace=False)\n",
       "                (softmax): Softmax(dim=-1)\n",
       "              )\n",
       "              (drop_path): DropPath(drop_prob=0.029)\n",
       "              (norm2): LayerNorm((96,), eps=1e-05, elementwise_affine=True)\n",
       "              (mlp): Mlp(\n",
       "                (fc1): Linear(in_features=96, out_features=384, bias=True)\n",
       "                (act): GELU(approximate='none')\n",
       "                (fc2): Linear(in_features=384, out_features=96, bias=True)\n",
       "                (drop): Dropout(p=0.0, inplace=False)\n",
       "              )\n",
       "            )\n",
       "          )\n",
       "          (downsample): PatchMerging(\n",
       "            input_resolution=(56, 56), dim=96\n",
       "            (reduction): Linear(in_features=384, out_features=192, bias=False)\n",
       "            (norm): LayerNorm((384,), eps=1e-05, elementwise_affine=True)\n",
       "          )\n",
       "        )\n",
       "        (1): BasicLayer(\n",
       "          dim=192, input_resolution=(28, 28), depth=2\n",
       "          (blocks): ModuleList(\n",
       "            (0): SwinTransformerBlock(\n",
       "              dim=192, input_resolution=(28, 28), num_heads=6, window_size=7, shift_size=0, mlp_ratio=4.0\n",
       "              (norm1): LayerNorm((192,), eps=1e-05, elementwise_affine=True)\n",
       "              (attn): WindowAttention(\n",
       "                dim=192, window_size=(7, 7), num_heads=6\n",
       "                (qkv): Linear(in_features=192, out_features=576, bias=True)\n",
       "                (attn_drop): Dropout(p=0.0, inplace=False)\n",
       "                (proj): Linear(in_features=192, out_features=192, bias=True)\n",
       "                (proj_drop): Dropout(p=0.0, inplace=False)\n",
       "                (softmax): Softmax(dim=-1)\n",
       "              )\n",
       "              (drop_path): DropPath(drop_prob=0.057)\n",
       "              (norm2): LayerNorm((192,), eps=1e-05, elementwise_affine=True)\n",
       "              (mlp): Mlp(\n",
       "                (fc1): Linear(in_features=192, out_features=768, bias=True)\n",
       "                (act): GELU(approximate='none')\n",
       "                (fc2): Linear(in_features=768, out_features=192, bias=True)\n",
       "                (drop): Dropout(p=0.0, inplace=False)\n",
       "              )\n",
       "            )\n",
       "            (1): SwinTransformerBlock(\n",
       "              dim=192, input_resolution=(28, 28), num_heads=6, window_size=7, shift_size=3, mlp_ratio=4.0\n",
       "              (norm1): LayerNorm((192,), eps=1e-05, elementwise_affine=True)\n",
       "              (attn): WindowAttention(\n",
       "                dim=192, window_size=(7, 7), num_heads=6\n",
       "                (qkv): Linear(in_features=192, out_features=576, bias=True)\n",
       "                (attn_drop): Dropout(p=0.0, inplace=False)\n",
       "                (proj): Linear(in_features=192, out_features=192, bias=True)\n",
       "                (proj_drop): Dropout(p=0.0, inplace=False)\n",
       "                (softmax): Softmax(dim=-1)\n",
       "              )\n",
       "              (drop_path): DropPath(drop_prob=0.086)\n",
       "              (norm2): LayerNorm((192,), eps=1e-05, elementwise_affine=True)\n",
       "              (mlp): Mlp(\n",
       "                (fc1): Linear(in_features=192, out_features=768, bias=True)\n",
       "                (act): GELU(approximate='none')\n",
       "                (fc2): Linear(in_features=768, out_features=192, bias=True)\n",
       "                (drop): Dropout(p=0.0, inplace=False)\n",
       "              )\n",
       "            )\n",
       "          )\n",
       "          (downsample): PatchMerging(\n",
       "            input_resolution=(28, 28), dim=192\n",
       "            (reduction): Linear(in_features=768, out_features=384, bias=False)\n",
       "            (norm): LayerNorm((768,), eps=1e-05, elementwise_affine=True)\n",
       "          )\n",
       "        )\n",
       "        (2): BasicLayer(\n",
       "          dim=384, input_resolution=(14, 14), depth=2\n",
       "          (blocks): ModuleList(\n",
       "            (0): SwinTransformerBlock(\n",
       "              dim=384, input_resolution=(14, 14), num_heads=12, window_size=7, shift_size=0, mlp_ratio=4.0\n",
       "              (norm1): LayerNorm((384,), eps=1e-05, elementwise_affine=True)\n",
       "              (attn): WindowAttention(\n",
       "                dim=384, window_size=(7, 7), num_heads=12\n",
       "                (qkv): Linear(in_features=384, out_features=1152, bias=True)\n",
       "                (attn_drop): Dropout(p=0.0, inplace=False)\n",
       "                (proj): Linear(in_features=384, out_features=384, bias=True)\n",
       "                (proj_drop): Dropout(p=0.0, inplace=False)\n",
       "                (softmax): Softmax(dim=-1)\n",
       "              )\n",
       "              (drop_path): DropPath(drop_prob=0.114)\n",
       "              (norm2): LayerNorm((384,), eps=1e-05, elementwise_affine=True)\n",
       "              (mlp): Mlp(\n",
       "                (fc1): Linear(in_features=384, out_features=1536, bias=True)\n",
       "                (act): GELU(approximate='none')\n",
       "                (fc2): Linear(in_features=1536, out_features=384, bias=True)\n",
       "                (drop): Dropout(p=0.0, inplace=False)\n",
       "              )\n",
       "            )\n",
       "            (1): SwinTransformerBlock(\n",
       "              dim=384, input_resolution=(14, 14), num_heads=12, window_size=7, shift_size=3, mlp_ratio=4.0\n",
       "              (norm1): LayerNorm((384,), eps=1e-05, elementwise_affine=True)\n",
       "              (attn): WindowAttention(\n",
       "                dim=384, window_size=(7, 7), num_heads=12\n",
       "                (qkv): Linear(in_features=384, out_features=1152, bias=True)\n",
       "                (attn_drop): Dropout(p=0.0, inplace=False)\n",
       "                (proj): Linear(in_features=384, out_features=384, bias=True)\n",
       "                (proj_drop): Dropout(p=0.0, inplace=False)\n",
       "                (softmax): Softmax(dim=-1)\n",
       "              )\n",
       "              (drop_path): DropPath(drop_prob=0.143)\n",
       "              (norm2): LayerNorm((384,), eps=1e-05, elementwise_affine=True)\n",
       "              (mlp): Mlp(\n",
       "                (fc1): Linear(in_features=384, out_features=1536, bias=True)\n",
       "                (act): GELU(approximate='none')\n",
       "                (fc2): Linear(in_features=1536, out_features=384, bias=True)\n",
       "                (drop): Dropout(p=0.0, inplace=False)\n",
       "              )\n",
       "            )\n",
       "          )\n",
       "          (downsample): PatchMerging(\n",
       "            input_resolution=(14, 14), dim=384\n",
       "            (reduction): Linear(in_features=1536, out_features=768, bias=False)\n",
       "            (norm): LayerNorm((1536,), eps=1e-05, elementwise_affine=True)\n",
       "          )\n",
       "        )\n",
       "        (3): BasicLayer(\n",
       "          dim=768, input_resolution=(7, 7), depth=2\n",
       "          (blocks): ModuleList(\n",
       "            (0): SwinTransformerBlock(\n",
       "              dim=768, input_resolution=(7, 7), num_heads=24, window_size=7, shift_size=0, mlp_ratio=4.0\n",
       "              (norm1): LayerNorm((768,), eps=1e-05, elementwise_affine=True)\n",
       "              (attn): WindowAttention(\n",
       "                dim=768, window_size=(7, 7), num_heads=24\n",
       "                (qkv): Linear(in_features=768, out_features=2304, bias=True)\n",
       "                (attn_drop): Dropout(p=0.0, inplace=False)\n",
       "                (proj): Linear(in_features=768, out_features=768, bias=True)\n",
       "                (proj_drop): Dropout(p=0.0, inplace=False)\n",
       "                (softmax): Softmax(dim=-1)\n",
       "              )\n",
       "              (drop_path): DropPath(drop_prob=0.171)\n",
       "              (norm2): LayerNorm((768,), eps=1e-05, elementwise_affine=True)\n",
       "              (mlp): Mlp(\n",
       "                (fc1): Linear(in_features=768, out_features=3072, bias=True)\n",
       "                (act): GELU(approximate='none')\n",
       "                (fc2): Linear(in_features=3072, out_features=768, bias=True)\n",
       "                (drop): Dropout(p=0.0, inplace=False)\n",
       "              )\n",
       "            )\n",
       "            (1): SwinTransformerBlock(\n",
       "              dim=768, input_resolution=(7, 7), num_heads=24, window_size=7, shift_size=0, mlp_ratio=4.0\n",
       "              (norm1): LayerNorm((768,), eps=1e-05, elementwise_affine=True)\n",
       "              (attn): WindowAttention(\n",
       "                dim=768, window_size=(7, 7), num_heads=24\n",
       "                (qkv): Linear(in_features=768, out_features=2304, bias=True)\n",
       "                (attn_drop): Dropout(p=0.0, inplace=False)\n",
       "                (proj): Linear(in_features=768, out_features=768, bias=True)\n",
       "                (proj_drop): Dropout(p=0.0, inplace=False)\n",
       "                (softmax): Softmax(dim=-1)\n",
       "              )\n",
       "              (drop_path): DropPath(drop_prob=0.200)\n",
       "              (norm2): LayerNorm((768,), eps=1e-05, elementwise_affine=True)\n",
       "              (mlp): Mlp(\n",
       "                (fc1): Linear(in_features=768, out_features=3072, bias=True)\n",
       "                (act): GELU(approximate='none')\n",
       "                (fc2): Linear(in_features=3072, out_features=768, bias=True)\n",
       "                (drop): Dropout(p=0.0, inplace=False)\n",
       "              )\n",
       "            )\n",
       "          )\n",
       "        )\n",
       "      )\n",
       "      (layers_up): ModuleList(\n",
       "        (0): PatchExpand(\n",
       "          (expand): Linear(in_features=768, out_features=1536, bias=False)\n",
       "          (norm): LayerNorm((384,), eps=1e-05, elementwise_affine=True)\n",
       "        )\n",
       "        (1): BasicLayer_up(\n",
       "          (blocks): ModuleList(\n",
       "            (0): SwinTransformerBlock(\n",
       "              dim=384, input_resolution=(14, 14), num_heads=12, window_size=7, shift_size=0, mlp_ratio=4.0\n",
       "              (norm1): LayerNorm((384,), eps=1e-05, elementwise_affine=True)\n",
       "              (attn): WindowAttention(\n",
       "                dim=384, window_size=(7, 7), num_heads=12\n",
       "                (qkv): Linear(in_features=384, out_features=1152, bias=True)\n",
       "                (attn_drop): Dropout(p=0.0, inplace=False)\n",
       "                (proj): Linear(in_features=384, out_features=384, bias=True)\n",
       "                (proj_drop): Dropout(p=0.0, inplace=False)\n",
       "                (softmax): Softmax(dim=-1)\n",
       "              )\n",
       "              (drop_path): DropPath(drop_prob=0.114)\n",
       "              (norm2): LayerNorm((384,), eps=1e-05, elementwise_affine=True)\n",
       "              (mlp): Mlp(\n",
       "                (fc1): Linear(in_features=384, out_features=1536, bias=True)\n",
       "                (act): GELU(approximate='none')\n",
       "                (fc2): Linear(in_features=1536, out_features=384, bias=True)\n",
       "                (drop): Dropout(p=0.0, inplace=False)\n",
       "              )\n",
       "            )\n",
       "            (1): SwinTransformerBlock(\n",
       "              dim=384, input_resolution=(14, 14), num_heads=12, window_size=7, shift_size=3, mlp_ratio=4.0\n",
       "              (norm1): LayerNorm((384,), eps=1e-05, elementwise_affine=True)\n",
       "              (attn): WindowAttention(\n",
       "                dim=384, window_size=(7, 7), num_heads=12\n",
       "                (qkv): Linear(in_features=384, out_features=1152, bias=True)\n",
       "                (attn_drop): Dropout(p=0.0, inplace=False)\n",
       "                (proj): Linear(in_features=384, out_features=384, bias=True)\n",
       "                (proj_drop): Dropout(p=0.0, inplace=False)\n",
       "                (softmax): Softmax(dim=-1)\n",
       "              )\n",
       "              (drop_path): DropPath(drop_prob=0.143)\n",
       "              (norm2): LayerNorm((384,), eps=1e-05, elementwise_affine=True)\n",
       "              (mlp): Mlp(\n",
       "                (fc1): Linear(in_features=384, out_features=1536, bias=True)\n",
       "                (act): GELU(approximate='none')\n",
       "                (fc2): Linear(in_features=1536, out_features=384, bias=True)\n",
       "                (drop): Dropout(p=0.0, inplace=False)\n",
       "              )\n",
       "            )\n",
       "          )\n",
       "          (upsample): PatchExpand(\n",
       "            (expand): Linear(in_features=384, out_features=768, bias=False)\n",
       "            (norm): LayerNorm((192,), eps=1e-05, elementwise_affine=True)\n",
       "          )\n",
       "        )\n",
       "        (2): BasicLayer_up(\n",
       "          (blocks): ModuleList(\n",
       "            (0): SwinTransformerBlock(\n",
       "              dim=192, input_resolution=(28, 28), num_heads=6, window_size=7, shift_size=0, mlp_ratio=4.0\n",
       "              (norm1): LayerNorm((192,), eps=1e-05, elementwise_affine=True)\n",
       "              (attn): WindowAttention(\n",
       "                dim=192, window_size=(7, 7), num_heads=6\n",
       "                (qkv): Linear(in_features=192, out_features=576, bias=True)\n",
       "                (attn_drop): Dropout(p=0.0, inplace=False)\n",
       "                (proj): Linear(in_features=192, out_features=192, bias=True)\n",
       "                (proj_drop): Dropout(p=0.0, inplace=False)\n",
       "                (softmax): Softmax(dim=-1)\n",
       "              )\n",
       "              (drop_path): DropPath(drop_prob=0.057)\n",
       "              (norm2): LayerNorm((192,), eps=1e-05, elementwise_affine=True)\n",
       "              (mlp): Mlp(\n",
       "                (fc1): Linear(in_features=192, out_features=768, bias=True)\n",
       "                (act): GELU(approximate='none')\n",
       "                (fc2): Linear(in_features=768, out_features=192, bias=True)\n",
       "                (drop): Dropout(p=0.0, inplace=False)\n",
       "              )\n",
       "            )\n",
       "            (1): SwinTransformerBlock(\n",
       "              dim=192, input_resolution=(28, 28), num_heads=6, window_size=7, shift_size=3, mlp_ratio=4.0\n",
       "              (norm1): LayerNorm((192,), eps=1e-05, elementwise_affine=True)\n",
       "              (attn): WindowAttention(\n",
       "                dim=192, window_size=(7, 7), num_heads=6\n",
       "                (qkv): Linear(in_features=192, out_features=576, bias=True)\n",
       "                (attn_drop): Dropout(p=0.0, inplace=False)\n",
       "                (proj): Linear(in_features=192, out_features=192, bias=True)\n",
       "                (proj_drop): Dropout(p=0.0, inplace=False)\n",
       "                (softmax): Softmax(dim=-1)\n",
       "              )\n",
       "              (drop_path): DropPath(drop_prob=0.086)\n",
       "              (norm2): LayerNorm((192,), eps=1e-05, elementwise_affine=True)\n",
       "              (mlp): Mlp(\n",
       "                (fc1): Linear(in_features=192, out_features=768, bias=True)\n",
       "                (act): GELU(approximate='none')\n",
       "                (fc2): Linear(in_features=768, out_features=192, bias=True)\n",
       "                (drop): Dropout(p=0.0, inplace=False)\n",
       "              )\n",
       "            )\n",
       "          )\n",
       "          (upsample): PatchExpand(\n",
       "            (expand): Linear(in_features=192, out_features=384, bias=False)\n",
       "            (norm): LayerNorm((96,), eps=1e-05, elementwise_affine=True)\n",
       "          )\n",
       "        )\n",
       "        (3): BasicLayer_up(\n",
       "          (blocks): ModuleList(\n",
       "            (0): SwinTransformerBlock(\n",
       "              dim=96, input_resolution=(56, 56), num_heads=3, window_size=7, shift_size=0, mlp_ratio=4.0\n",
       "              (norm1): LayerNorm((96,), eps=1e-05, elementwise_affine=True)\n",
       "              (attn): WindowAttention(\n",
       "                dim=96, window_size=(7, 7), num_heads=3\n",
       "                (qkv): Linear(in_features=96, out_features=288, bias=True)\n",
       "                (attn_drop): Dropout(p=0.0, inplace=False)\n",
       "                (proj): Linear(in_features=96, out_features=96, bias=True)\n",
       "                (proj_drop): Dropout(p=0.0, inplace=False)\n",
       "                (softmax): Softmax(dim=-1)\n",
       "              )\n",
       "              (drop_path): Identity()\n",
       "              (norm2): LayerNorm((96,), eps=1e-05, elementwise_affine=True)\n",
       "              (mlp): Mlp(\n",
       "                (fc1): Linear(in_features=96, out_features=384, bias=True)\n",
       "                (act): GELU(approximate='none')\n",
       "                (fc2): Linear(in_features=384, out_features=96, bias=True)\n",
       "                (drop): Dropout(p=0.0, inplace=False)\n",
       "              )\n",
       "            )\n",
       "            (1): SwinTransformerBlock(\n",
       "              dim=96, input_resolution=(56, 56), num_heads=3, window_size=7, shift_size=3, mlp_ratio=4.0\n",
       "              (norm1): LayerNorm((96,), eps=1e-05, elementwise_affine=True)\n",
       "              (attn): WindowAttention(\n",
       "                dim=96, window_size=(7, 7), num_heads=3\n",
       "                (qkv): Linear(in_features=96, out_features=288, bias=True)\n",
       "                (attn_drop): Dropout(p=0.0, inplace=False)\n",
       "                (proj): Linear(in_features=96, out_features=96, bias=True)\n",
       "                (proj_drop): Dropout(p=0.0, inplace=False)\n",
       "                (softmax): Softmax(dim=-1)\n",
       "              )\n",
       "              (drop_path): DropPath(drop_prob=0.029)\n",
       "              (norm2): LayerNorm((96,), eps=1e-05, elementwise_affine=True)\n",
       "              (mlp): Mlp(\n",
       "                (fc1): Linear(in_features=96, out_features=384, bias=True)\n",
       "                (act): GELU(approximate='none')\n",
       "                (fc2): Linear(in_features=384, out_features=96, bias=True)\n",
       "                (drop): Dropout(p=0.0, inplace=False)\n",
       "              )\n",
       "            )\n",
       "          )\n",
       "        )\n",
       "      )\n",
       "      (concat_back_dim): ModuleList(\n",
       "        (0): Identity()\n",
       "        (1): Linear(in_features=768, out_features=384, bias=True)\n",
       "        (2): Linear(in_features=384, out_features=192, bias=True)\n",
       "        (3): Linear(in_features=192, out_features=96, bias=True)\n",
       "      )\n",
       "      (norm): LayerNorm((768,), eps=1e-05, elementwise_affine=True)\n",
       "      (norm_up): LayerNorm((96,), eps=1e-05, elementwise_affine=True)\n",
       "      (up): FinalPatchExpand_X4(\n",
       "        (expand): Linear(in_features=96, out_features=1536, bias=False)\n",
       "        (norm): LayerNorm((96,), eps=1e-05, elementwise_affine=True)\n",
       "      )\n",
       "      (output): Conv2d(96, 2, kernel_size=(1, 1), stride=(1, 1), bias=False)\n",
       "    )\n",
       "  )\n",
       ")"
      ]
     },
     "execution_count": 25,
     "metadata": {},
     "output_type": "execute_result"
    }
   ],
   "source": [
    "model.train()"
   ]
  },
  {
   "cell_type": "code",
   "execution_count": 26,
   "metadata": {},
   "outputs": [],
   "source": [
    "ce_loss = CrossEntropyLoss()\n",
    "dice_loss = DiceLoss(2)\n",
    "base_lr = 0.05\n",
    "optimizer = optim.SGD(model.parameters(), lr=base_lr, momentum=0.9, weight_decay=0.0001)"
   ]
  },
  {
   "cell_type": "code",
   "execution_count": 27,
   "metadata": {},
   "outputs": [],
   "source": [
    "iter_num = 0\n",
    "max_epoch = 500\n",
    "max_iterations = max_epoch * len(trainloader)"
   ]
  },
  {
   "cell_type": "code",
   "execution_count": 28,
   "metadata": {},
   "outputs": [],
   "source": [
    "best_performance = 0.0\n",
    "snapshot_path = 'snapshots'"
   ]
  },
  {
   "cell_type": "code",
   "execution_count": 29,
   "metadata": {
    "scrolled": true
   },
   "outputs": [
    {
     "name": "stderr",
     "output_type": "stream",
     "text": [
      "  0%|▏                                                              | 1/500 [00:00<04:20,  1.92it/s]"
     ]
    },
    {
     "name": "stdout",
     "output_type": "stream",
     "text": [
      "Epoch: 0\t100.00% complete. 0.45 seconds elapsed in epoch.\r",
      "Checking validation loss...\n",
      "Validation loss improved to 0.5215. Saving model...\n"
     ]
    },
    {
     "name": "stderr",
     "output_type": "stream",
     "text": [
      "\r",
      "  0%|▎                                                              | 2/500 [00:00<02:54,  2.85it/s]"
     ]
    },
    {
     "name": "stdout",
     "output_type": "stream",
     "text": [
      "Epoch: 1\t100.00% complete. 0.16 seconds elapsed in epoch.\r",
      "Checking validation loss...\n",
      "Validation loss improved to 0.5020. Saving model...\n"
     ]
    },
    {
     "name": "stderr",
     "output_type": "stream",
     "text": [
      "\r",
      "  1%|▍                                                              | 3/500 [00:00<02:26,  3.38it/s]"
     ]
    },
    {
     "name": "stdout",
     "output_type": "stream",
     "text": [
      "Epoch: 2\t100.00% complete. 0.16 seconds elapsed in epoch.\r",
      "Checking validation loss...\n",
      "Validation loss improved to 0.5002. Saving model...\n"
     ]
    },
    {
     "name": "stderr",
     "output_type": "stream",
     "text": [
      "\r",
      "  1%|▌                                                              | 4/500 [00:01<02:16,  3.65it/s]"
     ]
    },
    {
     "name": "stdout",
     "output_type": "stream",
     "text": [
      "Epoch: 3\t100.00% complete. 0.16 seconds elapsed in epoch.\r",
      "Checking validation loss...\n",
      "Validation loss improved to 0.5000. Saving model...\n"
     ]
    },
    {
     "name": "stderr",
     "output_type": "stream",
     "text": [
      "\r",
      "  1%|▋                                                              | 5/500 [00:01<02:08,  3.87it/s]"
     ]
    },
    {
     "name": "stdout",
     "output_type": "stream",
     "text": [
      "Epoch: 4\t100.00% complete. 0.16 seconds elapsed in epoch.\r",
      "Checking validation loss...\n",
      "Validation loss improved to 0.5000. Saving model...\n"
     ]
    },
    {
     "name": "stderr",
     "output_type": "stream",
     "text": [
      "\r",
      "  1%|▊                                                              | 6/500 [00:01<02:03,  4.00it/s]"
     ]
    },
    {
     "name": "stdout",
     "output_type": "stream",
     "text": [
      "Epoch: 5\t100.00% complete. 0.16 seconds elapsed in epoch.\r",
      "Checking validation loss...\n",
      "Validation loss improved to 0.5000. Saving model...\n"
     ]
    },
    {
     "name": "stderr",
     "output_type": "stream",
     "text": [
      "\r",
      "  1%|▉                                                              | 7/500 [00:01<02:00,  4.10it/s]"
     ]
    },
    {
     "name": "stdout",
     "output_type": "stream",
     "text": [
      "Epoch: 6\t100.00% complete. 0.16 seconds elapsed in epoch.\r",
      "Checking validation loss...\n",
      "Validation loss improved to 0.5000. Saving model...\n"
     ]
    },
    {
     "name": "stderr",
     "output_type": "stream",
     "text": [
      "\r",
      "  2%|█                                                              | 8/500 [00:02<02:03,  3.99it/s]"
     ]
    },
    {
     "name": "stdout",
     "output_type": "stream",
     "text": [
      "Epoch: 7\t100.00% complete. 0.18 seconds elapsed in epoch.\r",
      "Checking validation loss...\n",
      "Validation loss improved to 0.5000. Saving model...\n"
     ]
    },
    {
     "name": "stderr",
     "output_type": "stream",
     "text": [
      "\r",
      "  2%|█▏                                                             | 9/500 [00:02<02:06,  3.89it/s]"
     ]
    },
    {
     "name": "stdout",
     "output_type": "stream",
     "text": [
      "Epoch: 8\t100.00% complete. 0.19 seconds elapsed in epoch.\r",
      "Checking validation loss...\n",
      "Validation loss improved to 0.5000. Saving model...\n"
     ]
    },
    {
     "name": "stderr",
     "output_type": "stream",
     "text": [
      "\r",
      "  2%|█▏                                                            | 10/500 [00:02<02:08,  3.82it/s]"
     ]
    },
    {
     "name": "stdout",
     "output_type": "stream",
     "text": [
      "Epoch: 9\t100.00% complete. 0.17 seconds elapsed in epoch.\r",
      "Checking validation loss...\n",
      "Validation loss improved to 0.5000. Saving model...\n"
     ]
    },
    {
     "name": "stderr",
     "output_type": "stream",
     "text": [
      "\r",
      "  2%|█▎                                                            | 11/500 [00:02<02:07,  3.82it/s]"
     ]
    },
    {
     "name": "stdout",
     "output_type": "stream",
     "text": [
      "Epoch: 10\t100.00% complete. 0.18 seconds elapsed in epoch.\r",
      "Checking validation loss...\n",
      "Validation loss improved to 0.4999. Saving model...\n"
     ]
    },
    {
     "name": "stderr",
     "output_type": "stream",
     "text": [
      "\r",
      "  2%|█▍                                                            | 12/500 [00:03<02:05,  3.88it/s]"
     ]
    },
    {
     "name": "stdout",
     "output_type": "stream",
     "text": [
      "Epoch: 11\t100.00% complete. 0.17 seconds elapsed in epoch.\r",
      "Checking validation loss...\n",
      "Validation loss improved to 0.4999. Saving model...\n"
     ]
    },
    {
     "name": "stderr",
     "output_type": "stream",
     "text": [
      "\r",
      "  3%|█▌                                                            | 13/500 [00:03<02:03,  3.94it/s]"
     ]
    },
    {
     "name": "stdout",
     "output_type": "stream",
     "text": [
      "Epoch: 12\t100.00% complete. 0.17 seconds elapsed in epoch.\r",
      "Checking validation loss...\n",
      "Validation loss improved to 0.4998. Saving model...\n"
     ]
    },
    {
     "name": "stderr",
     "output_type": "stream",
     "text": [
      "\r",
      "  3%|█▋                                                            | 14/500 [00:03<02:04,  3.91it/s]"
     ]
    },
    {
     "name": "stdout",
     "output_type": "stream",
     "text": [
      "Epoch: 13\t100.00% complete. 0.17 seconds elapsed in epoch.\r",
      "Checking validation loss...\n",
      "Validation loss improved to 0.4998. Saving model...\n"
     ]
    },
    {
     "name": "stderr",
     "output_type": "stream",
     "text": [
      "\r",
      "  3%|█▊                                                            | 15/500 [00:04<02:06,  3.84it/s]"
     ]
    },
    {
     "name": "stdout",
     "output_type": "stream",
     "text": [
      "Epoch: 14\t100.00% complete. 0.19 seconds elapsed in epoch.\r",
      "Checking validation loss...\n",
      "Validation loss improved to 0.4997. Saving model...\n"
     ]
    },
    {
     "name": "stderr",
     "output_type": "stream",
     "text": [
      "\r",
      "  3%|█▉                                                            | 16/500 [00:04<02:04,  3.88it/s]"
     ]
    },
    {
     "name": "stdout",
     "output_type": "stream",
     "text": [
      "Epoch: 15\t100.00% complete. 0.17 seconds elapsed in epoch.\r",
      "Checking validation loss...\n",
      "Validation loss improved to 0.4996. Saving model...\n"
     ]
    },
    {
     "name": "stderr",
     "output_type": "stream",
     "text": [
      "\r",
      "  3%|██                                                            | 17/500 [00:04<02:05,  3.84it/s]"
     ]
    },
    {
     "name": "stdout",
     "output_type": "stream",
     "text": [
      "Epoch: 16\t100.00% complete. 0.18 seconds elapsed in epoch.\r",
      "Checking validation loss...\n",
      "Validation loss improved to 0.4994. Saving model...\n"
     ]
    },
    {
     "name": "stderr",
     "output_type": "stream",
     "text": [
      "\r",
      "  4%|██▏                                                           | 18/500 [00:04<02:14,  3.60it/s]"
     ]
    },
    {
     "name": "stdout",
     "output_type": "stream",
     "text": [
      "Epoch: 17\t100.00% complete. 0.22 seconds elapsed in epoch.\r",
      "Checking validation loss...\n",
      "Validation loss improved to 0.4992. Saving model...\n"
     ]
    },
    {
     "name": "stderr",
     "output_type": "stream",
     "text": [
      "\r",
      "  4%|██▎                                                           | 19/500 [00:05<02:21,  3.41it/s]"
     ]
    },
    {
     "name": "stdout",
     "output_type": "stream",
     "text": [
      "Epoch: 18\t100.00% complete. 0.24 seconds elapsed in epoch.\r",
      "Checking validation loss...\n",
      "Validation loss improved to 0.4990. Saving model...\n"
     ]
    },
    {
     "name": "stderr",
     "output_type": "stream",
     "text": [
      "\r",
      "  4%|██▍                                                           | 20/500 [00:05<02:18,  3.46it/s]"
     ]
    },
    {
     "name": "stdout",
     "output_type": "stream",
     "text": [
      "Epoch: 19\t100.00% complete. 0.19 seconds elapsed in epoch.\r",
      "Checking validation loss...\n",
      "Validation loss improved to 0.4987. Saving model...\n"
     ]
    },
    {
     "name": "stderr",
     "output_type": "stream",
     "text": [
      "\r",
      "  4%|██▌                                                           | 21/500 [00:05<02:15,  3.54it/s]"
     ]
    },
    {
     "name": "stdout",
     "output_type": "stream",
     "text": [
      "Epoch: 20\t100.00% complete. 0.19 seconds elapsed in epoch.\r",
      "Checking validation loss...\n",
      "Validation loss improved to 0.4984. Saving model...\n"
     ]
    },
    {
     "name": "stderr",
     "output_type": "stream",
     "text": [
      "\r",
      "  4%|██▋                                                           | 22/500 [00:05<02:11,  3.64it/s]"
     ]
    },
    {
     "name": "stdout",
     "output_type": "stream",
     "text": [
      "Epoch: 21\t100.00% complete. 0.18 seconds elapsed in epoch.\r",
      "Checking validation loss...\n",
      "Validation loss improved to 0.4979. Saving model...\n"
     ]
    },
    {
     "name": "stderr",
     "output_type": "stream",
     "text": [
      "\r",
      "  5%|██▊                                                           | 23/500 [00:06<02:10,  3.67it/s]"
     ]
    },
    {
     "name": "stdout",
     "output_type": "stream",
     "text": [
      "Epoch: 22\t100.00% complete. 0.19 seconds elapsed in epoch.\r",
      "Checking validation loss...\n",
      "Validation loss improved to 0.4972. Saving model...\n"
     ]
    },
    {
     "name": "stderr",
     "output_type": "stream",
     "text": [
      "\r",
      "  5%|██▉                                                           | 24/500 [00:06<02:09,  3.68it/s]"
     ]
    },
    {
     "name": "stdout",
     "output_type": "stream",
     "text": [
      "Epoch: 23\t100.00% complete. 0.19 seconds elapsed in epoch.\r",
      "Checking validation loss...\n",
      "Validation loss improved to 0.4961. Saving model...\n"
     ]
    },
    {
     "name": "stderr",
     "output_type": "stream",
     "text": [
      "\r",
      "  5%|███                                                           | 25/500 [00:06<02:08,  3.69it/s]"
     ]
    },
    {
     "name": "stdout",
     "output_type": "stream",
     "text": [
      "Epoch: 24\t100.00% complete. 0.18 seconds elapsed in epoch.\r",
      "Checking validation loss...\n",
      "Validation loss improved to 0.4942. Saving model...\n"
     ]
    },
    {
     "name": "stderr",
     "output_type": "stream",
     "text": [
      "\r",
      "  5%|███▏                                                          | 26/500 [00:07<02:22,  3.32it/s]"
     ]
    },
    {
     "name": "stdout",
     "output_type": "stream",
     "text": [
      "Epoch: 25\t100.00% complete. 0.26 seconds elapsed in epoch.\r",
      "Checking validation loss...\n",
      "Validation loss improved to 0.4906. Saving model...\n"
     ]
    },
    {
     "name": "stderr",
     "output_type": "stream",
     "text": [
      "\r",
      "  5%|███▎                                                          | 27/500 [00:07<02:30,  3.15it/s]"
     ]
    },
    {
     "name": "stdout",
     "output_type": "stream",
     "text": [
      "Epoch: 26\t100.00% complete. 0.27 seconds elapsed in epoch.\r",
      "Checking validation loss...\n",
      "Validation loss improved to 0.4822. Saving model...\n"
     ]
    },
    {
     "name": "stderr",
     "output_type": "stream",
     "text": [
      "\r",
      "  6%|███▍                                                          | 28/500 [00:07<02:28,  3.19it/s]"
     ]
    },
    {
     "name": "stdout",
     "output_type": "stream",
     "text": [
      "Epoch: 27\t100.00% complete. 0.21 seconds elapsed in epoch.\r",
      "Checking validation loss...\n",
      "Validation loss improved to 0.4543. Saving model...\n"
     ]
    },
    {
     "name": "stderr",
     "output_type": "stream",
     "text": [
      "\r",
      "  6%|███▌                                                          | 29/500 [00:08<02:23,  3.29it/s]"
     ]
    },
    {
     "name": "stdout",
     "output_type": "stream",
     "text": [
      "Epoch: 28\t100.00% complete. 0.20 seconds elapsed in epoch.\r",
      "Checking validation loss...\n",
      "Validation loss improved to 0.3000. Saving model...\n"
     ]
    },
    {
     "name": "stderr",
     "output_type": "stream",
     "text": [
      "\r",
      "  6%|███▋                                                          | 30/500 [00:08<02:19,  3.36it/s]"
     ]
    },
    {
     "name": "stdout",
     "output_type": "stream",
     "text": [
      "Epoch: 29\t100.00% complete. 0.20 seconds elapsed in epoch.\r",
      "Checking validation loss...\n",
      "Validation loss improved to 0.0078. Saving model...\n"
     ]
    },
    {
     "name": "stderr",
     "output_type": "stream",
     "text": [
      "\r",
      "  6%|███▊                                                          | 31/500 [00:08<02:16,  3.45it/s]"
     ]
    },
    {
     "name": "stdout",
     "output_type": "stream",
     "text": [
      "Epoch: 30\t100.00% complete. 0.19 seconds elapsed in epoch.\r",
      "Checking validation loss...\n",
      "Validation loss improved to 0.0001. Saving model...\n"
     ]
    },
    {
     "name": "stderr",
     "output_type": "stream",
     "text": [
      "\r",
      "  6%|███▉                                                          | 32/500 [00:08<02:11,  3.56it/s]"
     ]
    },
    {
     "name": "stdout",
     "output_type": "stream",
     "text": [
      "Epoch: 31\t100.00% complete. 0.18 seconds elapsed in epoch.\r",
      "Checking validation loss...\n",
      "Validation loss improved to 0.0000. Saving model...\n"
     ]
    },
    {
     "name": "stderr",
     "output_type": "stream",
     "text": [
      "\r",
      "  7%|████                                                          | 33/500 [00:09<02:31,  3.08it/s]"
     ]
    },
    {
     "name": "stdout",
     "output_type": "stream",
     "text": [
      "Epoch: 32\t100.00% complete. 0.30 seconds elapsed in epoch.\r",
      "Checking validation loss...\n",
      "Validation loss improved to 0.0000. Saving model...\n"
     ]
    },
    {
     "name": "stderr",
     "output_type": "stream",
     "text": [
      "\r",
      "  7%|████▏                                                         | 34/500 [00:09<02:47,  2.78it/s]"
     ]
    },
    {
     "name": "stdout",
     "output_type": "stream",
     "text": [
      "Epoch: 33\t100.00% complete. 0.31 seconds elapsed in epoch.\r",
      "Checking validation loss...\n",
      "Validation loss improved to 0.0000. Saving model...\n"
     ]
    },
    {
     "name": "stderr",
     "output_type": "stream",
     "text": [
      "\r",
      "  7%|████▎                                                         | 35/500 [00:10<02:30,  3.10it/s]"
     ]
    },
    {
     "name": "stdout",
     "output_type": "stream",
     "text": [
      "Epoch: 34\t100.00% complete. 0.17 seconds elapsed in epoch.\r",
      "Checking validation loss...\n",
      "Validation loss did not improve. (1/10)\n"
     ]
    },
    {
     "name": "stderr",
     "output_type": "stream",
     "text": [
      "\r",
      "  7%|████▍                                                         | 36/500 [00:10<02:21,  3.27it/s]"
     ]
    },
    {
     "name": "stdout",
     "output_type": "stream",
     "text": [
      "Epoch: 35\t100.00% complete. 0.19 seconds elapsed in epoch.\r",
      "Checking validation loss...\n",
      "Validation loss did not improve. (2/10)\n"
     ]
    },
    {
     "name": "stderr",
     "output_type": "stream",
     "text": [
      "\r",
      "  7%|████▌                                                         | 37/500 [00:10<02:17,  3.36it/s]"
     ]
    },
    {
     "name": "stdout",
     "output_type": "stream",
     "text": [
      "Epoch: 36\t100.00% complete. 0.20 seconds elapsed in epoch.\r",
      "Checking validation loss...\n",
      "Validation loss did not improve. (3/10)\n"
     ]
    },
    {
     "name": "stderr",
     "output_type": "stream",
     "text": [
      "\r",
      "  8%|████▋                                                         | 38/500 [00:10<02:33,  3.02it/s]"
     ]
    },
    {
     "name": "stdout",
     "output_type": "stream",
     "text": [
      "Epoch: 37\t100.00% complete. 0.30 seconds elapsed in epoch.\r",
      "Checking validation loss...\n",
      "Validation loss did not improve. (4/10)\n"
     ]
    },
    {
     "name": "stderr",
     "output_type": "stream",
     "text": [
      "\r",
      "  8%|████▊                                                         | 39/500 [00:11<02:39,  2.89it/s]"
     ]
    },
    {
     "name": "stdout",
     "output_type": "stream",
     "text": [
      "Epoch: 38\t100.00% complete. 0.31 seconds elapsed in epoch.\r",
      "Checking validation loss...\n",
      "Validation loss did not improve. (5/10)\n"
     ]
    },
    {
     "name": "stderr",
     "output_type": "stream",
     "text": [
      "\r",
      "  8%|████▉                                                         | 40/500 [00:11<02:23,  3.21it/s]"
     ]
    },
    {
     "name": "stdout",
     "output_type": "stream",
     "text": [
      "Epoch: 39\t100.00% complete. 0.16 seconds elapsed in epoch.\r",
      "Checking validation loss...\n",
      "Validation loss did not improve. (6/10)\n"
     ]
    },
    {
     "name": "stderr",
     "output_type": "stream",
     "text": [
      "\r",
      "  8%|█████                                                         | 41/500 [00:11<02:17,  3.33it/s]"
     ]
    },
    {
     "name": "stdout",
     "output_type": "stream",
     "text": [
      "Epoch: 40\t100.00% complete. 0.19 seconds elapsed in epoch.\r",
      "Checking validation loss...\n",
      "Validation loss did not improve. (7/10)\n"
     ]
    },
    {
     "name": "stderr",
     "output_type": "stream",
     "text": [
      "\r",
      "  8%|█████▏                                                        | 42/500 [00:12<02:32,  3.00it/s]"
     ]
    },
    {
     "name": "stdout",
     "output_type": "stream",
     "text": [
      "Epoch: 41\t100.00% complete. 0.30 seconds elapsed in epoch.\r",
      "Checking validation loss...\n",
      "Validation loss did not improve. (8/10)\n"
     ]
    },
    {
     "name": "stderr",
     "output_type": "stream",
     "text": [
      "\r",
      "  9%|█████▎                                                        | 43/500 [00:12<02:41,  2.83it/s]"
     ]
    },
    {
     "name": "stdout",
     "output_type": "stream",
     "text": [
      "Epoch: 42\t100.00% complete. 0.29 seconds elapsed in epoch.\r",
      "Checking validation loss...\n",
      "Validation loss did not improve. (9/10)\n"
     ]
    },
    {
     "name": "stderr",
     "output_type": "stream",
     "text": [
      "\r",
      "  9%|█████▎                                                        | 43/500 [00:13<02:19,  3.28it/s]"
     ]
    },
    {
     "name": "stdout",
     "output_type": "stream",
     "text": [
      "Epoch: 43\t100.00% complete. 0.26 seconds elapsed in epoch.\r",
      "Checking validation loss...\n",
      "Validation loss did not improve. (10/10)\n",
      "Stopping early due to lack of improvement in validation loss.\n",
      "Saved model to snapshots\\epoch_43.pth\n",
      "13.11 total seconds elapsed. 0.03 seconds per epoch.\n"
     ]
    },
    {
     "name": "stderr",
     "output_type": "stream",
     "text": [
      "\n"
     ]
    }
   ],
   "source": [
    "overall_start = timer()\n",
    "history = []\n",
    "\n",
    "# Initialize early stopping variables\n",
    "best_val_metric = float('inf')\n",
    "patience = 10\n",
    "wait = 0\n",
    "best_model = None\n",
    "\n",
    "# For each epoch\n",
    "iterator = tqdm(range(max_epoch), ncols=100)\n",
    "for epoch_num in iterator:\n",
    "    start = timer()\n",
    "    history_ce = 0.0\n",
    "    history_dice = 0.0\n",
    "    history_loss = 0.0\n",
    "    \n",
    "    # Training loop\n",
    "    for i_batch, sampled_batch in enumerate(trainloader):\n",
    "        image_batch, label_batch = sampled_batch['image'], sampled_batch['label']\n",
    "        image_batch, label_batch = image_batch.to(device), label_batch.to(device)\n",
    "        \n",
    "        outputs = model(image_batch)\n",
    "        \n",
    "        loss_ce = ce_loss(outputs, label_batch.squeeze(1).long())\n",
    "        loss_dice = dice_loss(outputs, label_batch.squeeze(1), softmax=True)\n",
    "        loss = 0.4 * loss_ce + 0.6 * loss_dice\n",
    "        \n",
    "        optimizer.zero_grad()\n",
    "        loss.backward()\n",
    "        optimizer.step()\n",
    "        lr_ = base_lr * (1.0 - iter_num / max_iterations) ** 0.9\n",
    "        for param_group in optimizer.param_groups:\n",
    "            param_group['lr'] = lr_\n",
    "\n",
    "        history_ce += loss_ce.item()\n",
    "        history_dice += loss_dice.item()\n",
    "        history_loss += loss.item()\n",
    "        iter_num += 1\n",
    "        # Track training progress\n",
    "        print(\n",
    "            f'Epoch: {epoch_num}\\t{100 * (i_batch + 1) / len(trainloader):.2f}% complete. {timer() - start:.2f} seconds elapsed in epoch.',\n",
    "            end='\\r')   \n",
    "    \n",
    "    # Validation loop\n",
    "    print('Checking validation loss...')\n",
    "    model.eval()  # Set the model to evaluation mode\n",
    "    val_loss = 0.0\n",
    "    with torch.no_grad():  # No need to track gradients during validation\n",
    "        for i_batch, sampled_batch in enumerate(valloader):\n",
    "            image_batch, label_batch = sampled_batch['image'], sampled_batch['label']\n",
    "            image_batch, label_batch = image_batch.to(device), label_batch.to(device)\n",
    "\n",
    "            outputs = model(image_batch)\n",
    "\n",
    "            loss_dice = dice_loss(outputs, label_batch.squeeze(1), softmax=True)\n",
    "            \n",
    "            val_loss += loss_dice.item()\n",
    "\n",
    "    val_loss /= len(valloader)\n",
    "    history_ce /= len(trainloader)\n",
    "    history_dice /= len(trainloader)\n",
    "    history_loss /= len(trainloader)\n",
    "    history.append([history_ce, history_dice, history_loss, val_loss])     \n",
    "    \n",
    "    # Early Stopping Check\n",
    "    if val_loss < best_val_metric:\n",
    "        best_val_metric = val_loss\n",
    "        best_model = deepcopy(model.state_dict())  # Save a copy of the current best model\n",
    "        wait = 0  # Reset wait counter\n",
    "        print(f\"Validation loss improved to {val_loss:.4f}. Saving model...\")\n",
    "    else:\n",
    "        wait += 1\n",
    "        print(f\"Validation loss did not improve. ({wait}/{patience})\")\n",
    "\n",
    "    if wait >= patience:\n",
    "        print(\"Stopping early due to lack of improvement in validation loss.\")\n",
    "        # Save\n",
    "        save_history_path = os.path.join(snapshot_path, 'epoch_' + str(epoch_num) + '_history.npz')\n",
    "        np.savez_compressed(save_history_path, history=history)\n",
    "        save_model_path = os.path.join(snapshot_path, 'epoch_' + str(epoch_num) + '.pth')\n",
    "        torch.save(model.state_dict(), save_model_path)\n",
    "        print(f\"Saved model to {save_model_path}\")\n",
    "        break\n",
    "        \n",
    "    # Save occasionally\n",
    "    if epoch_num+1 % 50 == 0:\n",
    "        save_history_path = os.path.join(snapshot_path, 'epoch_' + str(epoch_num) + '_history.npz')\n",
    "        np.savez_compressed(save_history_path, history=history)\n",
    "        save_model_path = os.path.join(snapshot_path, 'epoch_' + str(epoch_num) + '.pth')\n",
    "        torch.save(model.state_dict(), save_model_path)\n",
    "        print(f\"Saved model to {save_model_path}\")\n",
    "iterator.close()\n",
    "\n",
    "total_time = timer() - overall_start\n",
    "print(f'{total_time:.2f} total seconds elapsed. {total_time / (max_epoch+1):.2f} seconds per epoch.')"
   ]
  },
  {
   "cell_type": "code",
   "execution_count": 6,
   "metadata": {},
   "outputs": [
    {
     "name": "stdout",
     "output_type": "stream",
     "text": [
      "[[0.01527626 0.43734737 0.26851894 0.41914842]\n",
      " [0.01233749 0.40952195 0.25064818 0.41150175]\n",
      " [0.01203093 0.40397833 0.24719938 0.43035779]\n",
      " [0.01155231 0.39578362 0.24209111 0.41593844]\n",
      " [0.01128515 0.39080619 0.23899778 0.42614177]\n",
      " [0.01104153 0.38502428 0.23543119 0.41802406]\n",
      " [0.01079922 0.38125275 0.23307135 0.44100727]\n",
      " [0.01098986 0.3821518  0.23368703 0.42436305]\n",
      " [0.01066341 0.37801549 0.23107467 0.42637281]\n",
      " [0.01058957 0.37626393 0.22999419 0.42794739]\n",
      " [0.01048415 0.37542298 0.22944746 0.42279319]\n",
      " [0.01056752 0.37389247 0.2285625  0.41397365]]\n"
     ]
    },
    {
     "data": {
      "image/png": "[encoded data removed]",
      "text/plain": [
       "<Figure size 800x600 with 1 Axes>"
      ]
     },
     "metadata": {},
     "output_type": "display_data"
    }
   ],
   "source": [
    "# history_path = os.path.join(snapshot_path, 'epoch_43_history.npz')\n",
    "history_path = 'code/results/epoch_11_history.npz'\n",
    "history = np.load(history_path)['history']\n",
    "print(history)\n",
    "\n",
    "history_np = np.array(history)\n",
    "\n",
    "history_np /= 12\n",
    "\n",
    "plt.figure(figsize=(8, 6))\n",
    "# plt.plot(history_np[:, 0], label=\"Average Cross Entropy Loss\")\n",
    "plt.plot(history_np[:, 1], label=\"Train Average Dice Loss\")\n",
    "plt.plot(history_np[:, 3], label=\"Val Average Dice Loss\")\n",
    "# plt.plot(history_np[:, 2], label=\"Average Cross Entropy Loss\")\n",
    "plt.legend()\n",
    "plt.xlabel('Epoch')\n",
    "plt.ylabel('Loss')\n",
    "plt.title('Losses')\n",
    "plt.show()"
   ]
  },
  {
   "cell_type": "code",
   "execution_count": 12,
   "metadata": {},
   "outputs": [
    {
     "name": "stdout",
     "output_type": "stream",
     "text": [
      "SwinTransformerSys expand initial----depths:[2, 2, 2, 2];depths_decoder:[1, 2, 2, 2];drop_path_rate:0.2;num_classes:2\n",
      "---final upsample expand_first---\n"
     ]
    },
    {
     "data": {
      "text/plain": [
       "<All keys matched successfully>"
      ]
     },
     "execution_count": 12,
     "metadata": {},
     "output_type": "execute_result"
    }
   ],
   "source": [
    "model = SwinUnet(config, img_size=224, num_classes=2).cuda()\n",
    "model = nn.DataParallel(model)\n",
    "model.load_state_dict(torch.load('code/results/epoch_11.pth'))"
   ]
  },
  {
   "cell_type": "code",
   "execution_count": 33,
   "metadata": {
    "scrolled": true
   },
   "outputs": [
    {
     "data": {
      "image/png": "[encoded data removed]",
      "text/plain": [
       "<Figure size 640x480 with 2 Axes>"
      ]
     },
     "metadata": {},
     "output_type": "display_data"
    }
   ],
   "source": [
    "slice_number = 63\n",
    "\n",
    "plt.imshow(db_val[slice_number]['image'].squeeze(), cmap='gray')\n",
    "plt.title(db_val[slice_number]['case_name'][:-4])\n",
    "plt.colorbar()\n",
    "plt.show()\n",
    "\n"
   ]
  },
  {
   "cell_type": "code",
   "execution_count": 18,
   "metadata": {},
   "outputs": [
    {
     "data": {
      "text/plain": [
       "{'image': tensor([[[0.2000, 0.2109, 0.4036,  ..., 0.1273, 0.0764, 0.0218],\n",
       "          [0.1891, 0.2691, 0.5055,  ..., 0.1055, 0.0364, 0.0109],\n",
       "          [0.2364, 0.3527, 0.6545,  ..., 0.0655, 0.0145, 0.0255],\n",
       "          ...,\n",
       "          [1.0000, 1.0000, 1.0000,  ..., 1.0000, 1.0000, 1.0000],\n",
       "          [1.0000, 1.0000, 1.0000,  ..., 1.0000, 1.0000, 1.0000],\n",
       "          [1.0000, 1.0000, 1.0000,  ..., 1.0000, 1.0000, 1.0000]]]),\n",
       " 'label': tensor([[[0, 0, 0,  ..., 0, 0, 0],\n",
       "          [0, 0, 0,  ..., 0, 0, 0],\n",
       "          [0, 0, 0,  ..., 0, 0, 0],\n",
       "          ...,\n",
       "          [0, 0, 0,  ..., 0, 0, 0],\n",
       "          [0, 0, 0,  ..., 0, 0, 0],\n",
       "          [0, 0, 0,  ..., 0, 0, 0]]]),\n",
       " 'case_name': 'bone_00047_lesion_02_slice_40.npz'}"
      ]
     },
     "execution_count": 18,
     "metadata": {},
     "output_type": "execute_result"
    }
   ],
   "source": [
    "db_val[63]db"
   ]
  },
  {
   "cell_type": "code",
   "execution_count": null,
   "metadata": {},
   "outputs": [],
   "source": []
  }
 ],
 "metadata": {
  "accelerator": "GPU",
  "colab": {
   "gpuType": "T4",
   "provenance": []
  },
  "kernelspec": {
   "display_name": "Python 3 (ipykernel)",
   "language": "python",
   "name": "python3"
  },
  "language_info": {
   "codemirror_mode": {
    "name": "ipython",
    "version": 3
   },
   "file_extension": ".py",
   "mimetype": "text/x-python",
   "name": "python",
   "nbconvert_exporter": "python",
   "pygments_lexer": "ipython3",
   "version": "3.8.16"
  }
 },
 "nbformat": 4,
 "nbformat_minor": 1
}
